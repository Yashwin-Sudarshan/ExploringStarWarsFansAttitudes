{
 "cells": [
  {
   "cell_type": "code",
   "execution_count": 1,
   "metadata": {},
   "outputs": [],
   "source": [
    "# Task 1: Data Preparation\n",
    "# Loading data from csv file, naming columns, and skipping first two rows as they are guides\n",
    "import pandas as pd\n",
    "sw_p = \"StarWars.csv\"\n",
    "sw_data = pd.read_csv(sw_p, sep=',', decimal='.', header = None, names = ['RespondentID', \n",
    "        'Have you seen any of the 6 films in the Star Wars franchise?', \n",
    "        'Do you consider yourself to be a fan of the Star Wars film franchise?', 'Seen SWE1', 'Seen SWE2', \n",
    "        'Seen SWE3', 'Seen SWE4', 'Seen SWE5', 'Seen SWE6', 'Preference Ranking SWE1', 'Preference Ranking SWE2',\n",
    "        'Preference Ranking SWE3', 'Preference Ranking SWE4', 'Preference Ranking SWE5', 'Preference Ranking SWE6',\n",
    "        'Han Solo View', 'Luke Sywalker View', 'Princess Leia Organa View', 'Anakin Skywalker View', \n",
    "        'Obi Wan Kenobi View', 'Emperor Palpatine View', 'Darth Vader View', 'Lando Calrissian View',\n",
    "        'Boba Fett View', 'C-3P0 View', 'R2 D2 View', 'Jar Jar Binks View','Padme Amidala View', 'Yoda View', \n",
    "        'Which character shot first?', 'Are you familiar with the Expanded Universe?',\n",
    "        'Do you consider yourself to be a fan of the Expanded Universe?', \n",
    "        'Do you consider yourself to be a fan of the Star Trek franchise?', 'Gender', 'Age', 'Household Income',\n",
    "        'Education', 'Location (Census Region)'], skiprows=2, encoding = 'unicode_escape')"
   ]
  },
  {
   "cell_type": "code",
   "execution_count": 2,
   "metadata": {
    "scrolled": false
   },
   "outputs": [
    {
     "data": {
      "text/html": [
       "<div>\n",
       "<style scoped>\n",
       "    .dataframe tbody tr th:only-of-type {\n",
       "        vertical-align: middle;\n",
       "    }\n",
       "\n",
       "    .dataframe tbody tr th {\n",
       "        vertical-align: top;\n",
       "    }\n",
       "\n",
       "    .dataframe thead th {\n",
       "        text-align: right;\n",
       "    }\n",
       "</style>\n",
       "<table border=\"1\" class=\"dataframe\">\n",
       "  <thead>\n",
       "    <tr style=\"text-align: right;\">\n",
       "      <th></th>\n",
       "      <th>RespondentID</th>\n",
       "      <th>Have you seen any of the 6 films in the Star Wars franchise?</th>\n",
       "      <th>Do you consider yourself to be a fan of the Star Wars film franchise?</th>\n",
       "      <th>Seen SWE1</th>\n",
       "      <th>Seen SWE2</th>\n",
       "      <th>Seen SWE3</th>\n",
       "      <th>Seen SWE4</th>\n",
       "      <th>Seen SWE5</th>\n",
       "      <th>Seen SWE6</th>\n",
       "      <th>Preference Ranking SWE1</th>\n",
       "      <th>...</th>\n",
       "      <th>Yoda View</th>\n",
       "      <th>Which character shot first?</th>\n",
       "      <th>Are you familiar with the Expanded Universe?</th>\n",
       "      <th>Do you consider yourself to be a fan of the Expanded Universe?</th>\n",
       "      <th>Do you consider yourself to be a fan of the Star Trek franchise?</th>\n",
       "      <th>Gender</th>\n",
       "      <th>Age</th>\n",
       "      <th>Household Income</th>\n",
       "      <th>Education</th>\n",
       "      <th>Location (Census Region)</th>\n",
       "    </tr>\n",
       "  </thead>\n",
       "  <tbody>\n",
       "    <tr>\n",
       "      <td>0</td>\n",
       "      <td>3292879998</td>\n",
       "      <td>Yes</td>\n",
       "      <td>Yes</td>\n",
       "      <td>Star Wars: Episode I  The Phantom Menace</td>\n",
       "      <td>Star Wars: Episode II  Attack of the Clones</td>\n",
       "      <td>Star Wars: Episode III  Revenge of the Sith</td>\n",
       "      <td>Star Wars: Episode IV  A New Hope</td>\n",
       "      <td>Star Wars: Episode V The Empire Strikes Back</td>\n",
       "      <td>Star Wars: Episode VI Return of the Jedi</td>\n",
       "      <td>3.0</td>\n",
       "      <td>...</td>\n",
       "      <td>Very favorably</td>\n",
       "      <td>I don't understand this question</td>\n",
       "      <td>Yes</td>\n",
       "      <td>No</td>\n",
       "      <td>No</td>\n",
       "      <td>Male</td>\n",
       "      <td>18-29</td>\n",
       "      <td>NaN</td>\n",
       "      <td>High school degree</td>\n",
       "      <td>South Atlantic</td>\n",
       "    </tr>\n",
       "    <tr>\n",
       "      <td>1</td>\n",
       "      <td>3292879538</td>\n",
       "      <td>No</td>\n",
       "      <td>NaN</td>\n",
       "      <td>NaN</td>\n",
       "      <td>NaN</td>\n",
       "      <td>NaN</td>\n",
       "      <td>NaN</td>\n",
       "      <td>NaN</td>\n",
       "      <td>NaN</td>\n",
       "      <td>NaN</td>\n",
       "      <td>...</td>\n",
       "      <td>NaN</td>\n",
       "      <td>NaN</td>\n",
       "      <td>NaN</td>\n",
       "      <td>NaN</td>\n",
       "      <td>Yes</td>\n",
       "      <td>Male</td>\n",
       "      <td>18-29</td>\n",
       "      <td>$0 - $24,999</td>\n",
       "      <td>Bachelor degree</td>\n",
       "      <td>West South Central</td>\n",
       "    </tr>\n",
       "    <tr>\n",
       "      <td>2</td>\n",
       "      <td>3292765271</td>\n",
       "      <td>Yes</td>\n",
       "      <td>No</td>\n",
       "      <td>Star Wars: Episode I  The Phantom Menace</td>\n",
       "      <td>Star Wars: Episode II  Attack of the Clones</td>\n",
       "      <td>Star Wars: Episode III  Revenge of the Sith</td>\n",
       "      <td>NaN</td>\n",
       "      <td>NaN</td>\n",
       "      <td>NaN</td>\n",
       "      <td>1.0</td>\n",
       "      <td>...</td>\n",
       "      <td>Unfamiliar (N/A)</td>\n",
       "      <td>I don't understand this question</td>\n",
       "      <td>No</td>\n",
       "      <td>NaN</td>\n",
       "      <td>No</td>\n",
       "      <td>Male</td>\n",
       "      <td>18-29</td>\n",
       "      <td>$0 - $24,999</td>\n",
       "      <td>High school degree</td>\n",
       "      <td>West North Central</td>\n",
       "    </tr>\n",
       "    <tr>\n",
       "      <td>3</td>\n",
       "      <td>3292763116</td>\n",
       "      <td>Yes</td>\n",
       "      <td>Yes</td>\n",
       "      <td>Star Wars: Episode I  The Phantom Menace</td>\n",
       "      <td>Star Wars: Episode II  Attack of the Clones</td>\n",
       "      <td>Star Wars: Episode III  Revenge of the Sith</td>\n",
       "      <td>Star Wars: Episode IV  A New Hope</td>\n",
       "      <td>Star Wars: Episode V The Empire Strikes Back</td>\n",
       "      <td>Star Wars: Episode VI Return of the Jedi</td>\n",
       "      <td>5.0</td>\n",
       "      <td>...</td>\n",
       "      <td>Very favorably</td>\n",
       "      <td>I don't understand this question</td>\n",
       "      <td>No</td>\n",
       "      <td>NaN</td>\n",
       "      <td>Yes</td>\n",
       "      <td>Male</td>\n",
       "      <td>18-29</td>\n",
       "      <td>$100,000 - $149,999</td>\n",
       "      <td>Some college or Associate degree</td>\n",
       "      <td>West North Central</td>\n",
       "    </tr>\n",
       "    <tr>\n",
       "      <td>4</td>\n",
       "      <td>3292731220</td>\n",
       "      <td>Yes</td>\n",
       "      <td>Yes</td>\n",
       "      <td>Star Wars: Episode I  The Phantom Menace</td>\n",
       "      <td>Star Wars: Episode II  Attack of the Clones</td>\n",
       "      <td>Star Wars: Episode III  Revenge of the Sith</td>\n",
       "      <td>Star Wars: Episode IV  A New Hope</td>\n",
       "      <td>Star Wars: Episode V The Empire Strikes Back</td>\n",
       "      <td>Star Wars: Episode VI Return of the Jedi</td>\n",
       "      <td>5.0</td>\n",
       "      <td>...</td>\n",
       "      <td>Somewhat favorably</td>\n",
       "      <td>Greedo</td>\n",
       "      <td>Yes</td>\n",
       "      <td>No</td>\n",
       "      <td>No</td>\n",
       "      <td>Male</td>\n",
       "      <td>18-29</td>\n",
       "      <td>$100,000 - $149,999</td>\n",
       "      <td>Some college or Associate degree</td>\n",
       "      <td>West North Central</td>\n",
       "    </tr>\n",
       "  </tbody>\n",
       "</table>\n",
       "<p>5 rows × 38 columns</p>\n",
       "</div>"
      ],
      "text/plain": [
       "   RespondentID Have you seen any of the 6 films in the Star Wars franchise?  \\\n",
       "0    3292879998                                                Yes             \n",
       "1    3292879538                                                 No             \n",
       "2    3292765271                                                Yes             \n",
       "3    3292763116                                                Yes             \n",
       "4    3292731220                                                Yes             \n",
       "\n",
       "  Do you consider yourself to be a fan of the Star Wars film franchise?  \\\n",
       "0                                                Yes                      \n",
       "1                                                NaN                      \n",
       "2                                                 No                      \n",
       "3                                                Yes                      \n",
       "4                                                Yes                      \n",
       "\n",
       "                                  Seen SWE1  \\\n",
       "0  Star Wars: Episode I  The Phantom Menace   \n",
       "1                                       NaN   \n",
       "2  Star Wars: Episode I  The Phantom Menace   \n",
       "3  Star Wars: Episode I  The Phantom Menace   \n",
       "4  Star Wars: Episode I  The Phantom Menace   \n",
       "\n",
       "                                     Seen SWE2  \\\n",
       "0  Star Wars: Episode II  Attack of the Clones   \n",
       "1                                          NaN   \n",
       "2  Star Wars: Episode II  Attack of the Clones   \n",
       "3  Star Wars: Episode II  Attack of the Clones   \n",
       "4  Star Wars: Episode II  Attack of the Clones   \n",
       "\n",
       "                                     Seen SWE3  \\\n",
       "0  Star Wars: Episode III  Revenge of the Sith   \n",
       "1                                          NaN   \n",
       "2  Star Wars: Episode III  Revenge of the Sith   \n",
       "3  Star Wars: Episode III  Revenge of the Sith   \n",
       "4  Star Wars: Episode III  Revenge of the Sith   \n",
       "\n",
       "                           Seen SWE4  \\\n",
       "0  Star Wars: Episode IV  A New Hope   \n",
       "1                                NaN   \n",
       "2                                NaN   \n",
       "3  Star Wars: Episode IV  A New Hope   \n",
       "4  Star Wars: Episode IV  A New Hope   \n",
       "\n",
       "                                      Seen SWE5  \\\n",
       "0  Star Wars: Episode V The Empire Strikes Back   \n",
       "1                                           NaN   \n",
       "2                                           NaN   \n",
       "3  Star Wars: Episode V The Empire Strikes Back   \n",
       "4  Star Wars: Episode V The Empire Strikes Back   \n",
       "\n",
       "                                  Seen SWE6  Preference Ranking SWE1  ...  \\\n",
       "0  Star Wars: Episode VI Return of the Jedi                      3.0  ...   \n",
       "1                                       NaN                      NaN  ...   \n",
       "2                                       NaN                      1.0  ...   \n",
       "3  Star Wars: Episode VI Return of the Jedi                      5.0  ...   \n",
       "4  Star Wars: Episode VI Return of the Jedi                      5.0  ...   \n",
       "\n",
       "            Yoda View       Which character shot first?  \\\n",
       "0      Very favorably  I don't understand this question   \n",
       "1                 NaN                               NaN   \n",
       "2    Unfamiliar (N/A)  I don't understand this question   \n",
       "3      Very favorably  I don't understand this question   \n",
       "4  Somewhat favorably                            Greedo   \n",
       "\n",
       "   Are you familiar with the Expanded Universe?  \\\n",
       "0                                           Yes   \n",
       "1                                           NaN   \n",
       "2                                            No   \n",
       "3                                            No   \n",
       "4                                           Yes   \n",
       "\n",
       "   Do you consider yourself to be a fan of the Expanded Universe?  \\\n",
       "0                                                 No                \n",
       "1                                                NaN                \n",
       "2                                                NaN                \n",
       "3                                                NaN                \n",
       "4                                                 No                \n",
       "\n",
       "   Do you consider yourself to be a fan of the Star Trek franchise? Gender  \\\n",
       "0                                                 No                  Male   \n",
       "1                                                Yes                  Male   \n",
       "2                                                 No                  Male   \n",
       "3                                                Yes                  Male   \n",
       "4                                                 No                  Male   \n",
       "\n",
       "     Age     Household Income                         Education  \\\n",
       "0  18-29                  NaN                High school degree   \n",
       "1  18-29         $0 - $24,999                   Bachelor degree   \n",
       "2  18-29         $0 - $24,999                High school degree   \n",
       "3  18-29  $100,000 - $149,999  Some college or Associate degree   \n",
       "4  18-29  $100,000 - $149,999  Some college or Associate degree   \n",
       "\n",
       "  Location (Census Region)  \n",
       "0           South Atlantic  \n",
       "1       West South Central  \n",
       "2       West North Central  \n",
       "3       West North Central  \n",
       "4       West North Central  \n",
       "\n",
       "[5 rows x 38 columns]"
      ]
     },
     "execution_count": 2,
     "metadata": {},
     "output_type": "execute_result"
    }
   ],
   "source": [
    "# Viewing first 5 rows of dataset\n",
    "sw_data.head(5)"
   ]
  },
  {
   "cell_type": "code",
   "execution_count": 3,
   "metadata": {},
   "outputs": [
    {
     "data": {
      "text/plain": [
       "(1186, 38)"
      ]
     },
     "execution_count": 3,
     "metadata": {},
     "output_type": "execute_result"
    }
   ],
   "source": [
    "# Checking the if loaded dataset shape is equivalent to csv file (1188 rows, 38 columns), output should hava 1186 \n",
    "# rows because 2 rows were skipped\n",
    "sw_data.shape"
   ]
  },
  {
   "cell_type": "code",
   "execution_count": 4,
   "metadata": {
    "scrolled": false
   },
   "outputs": [
    {
     "data": {
      "text/plain": [
       "RespondentID                                                               int64\n",
       "Have you seen any of the 6 films in the Star Wars franchise?              object\n",
       "Do you consider yourself to be a fan of the Star Wars film franchise?     object\n",
       "Seen SWE1                                                                 object\n",
       "Seen SWE2                                                                 object\n",
       "Seen SWE3                                                                 object\n",
       "Seen SWE4                                                                 object\n",
       "Seen SWE5                                                                 object\n",
       "Seen SWE6                                                                 object\n",
       "Preference Ranking SWE1                                                  float64\n",
       "Preference Ranking SWE2                                                  float64\n",
       "Preference Ranking SWE3                                                  float64\n",
       "Preference Ranking SWE4                                                  float64\n",
       "Preference Ranking SWE5                                                  float64\n",
       "Preference Ranking SWE6                                                  float64\n",
       "Han Solo View                                                             object\n",
       "Luke Sywalker View                                                        object\n",
       "Princess Leia Organa View                                                 object\n",
       "Anakin Skywalker View                                                     object\n",
       "Obi Wan Kenobi View                                                       object\n",
       "Emperor Palpatine View                                                    object\n",
       "Darth Vader View                                                          object\n",
       "Lando Calrissian View                                                     object\n",
       "Boba Fett View                                                            object\n",
       "C-3P0 View                                                                object\n",
       "R2 D2 View                                                                object\n",
       "Jar Jar Binks View                                                        object\n",
       "Padme Amidala View                                                        object\n",
       "Yoda View                                                                 object\n",
       "Which character shot first?                                               object\n",
       "Are you familiar with the Expanded Universe?                              object\n",
       "Do you consider yourself to be a fan of the Expanded Universe?            object\n",
       "Do you consider yourself to be a fan of the Star Trek franchise?          object\n",
       "Gender                                                                    object\n",
       "Age                                                                       object\n",
       "Household Income                                                          object\n",
       "Education                                                                 object\n",
       "Location (Census Region)                                                  object\n",
       "dtype: object"
      ]
     },
     "execution_count": 4,
     "metadata": {},
     "output_type": "execute_result"
    }
   ],
   "source": [
    "# Checking if the loaded dataset has the appropriate data types assigned to each column \n",
    "# 'Age' and 'Household Income' should not be of type int64 as they are given as a range in the dataset\n",
    "sw_data.dtypes"
   ]
  },
  {
   "cell_type": "code",
   "execution_count": 5,
   "metadata": {},
   "outputs": [
    {
     "data": {
      "text/plain": [
       "Yes     935\n",
       "No      250\n",
       "Yes       1\n",
       "Name: Have you seen any of the 6 films in the Star Wars franchise?, dtype: int64"
      ]
     },
     "execution_count": 5,
     "metadata": {},
     "output_type": "execute_result"
    }
   ],
   "source": [
    "# Checking for typos, extra whitespaces, and missing values; there are no missing values in this column as the \n",
    "# number of observations in this column add up to 1186\n",
    "sw_data['Have you seen any of the 6 films in the Star Wars franchise?'].value_counts()"
   ]
  },
  {
   "cell_type": "code",
   "execution_count": 6,
   "metadata": {},
   "outputs": [
    {
     "data": {
      "text/plain": [
       "YES    936\n",
       "NO     250\n",
       "Name: Have you seen any of the 6 films in the Star Wars franchise?, dtype: int64"
      ]
     },
     "execution_count": 6,
     "metadata": {},
     "output_type": "execute_result"
    }
   ],
   "source": [
    "# Fixing extra whitespaces and capitalising text data\n",
    "sw_data['Have you seen any of the 6 films in the Star Wars franchise?'] = sw_data['Have you seen any of the 6 films in the Star Wars franchise?'].str.strip()\n",
    "sw_data['Have you seen any of the 6 films in the Star Wars franchise?'] = sw_data['Have you seen any of the 6 films in the Star Wars franchise?'].str.upper()\n",
    "sw_data['Have you seen any of the 6 films in the Star Wars franchise?'].value_counts()"
   ]
  },
  {
   "cell_type": "code",
   "execution_count": 7,
   "metadata": {},
   "outputs": [
    {
     "data": {
      "text/plain": [
       "Yes     551\n",
       "No      283\n",
       "Noo       1\n",
       "Yess      1\n",
       "Name: Do you consider yourself to be a fan of the Star Wars film franchise?, dtype: int64"
      ]
     },
     "execution_count": 7,
     "metadata": {},
     "output_type": "execute_result"
    }
   ],
   "source": [
    "# Checking for typos, extra whitespaces, and missing values\n",
    "sw_data['Do you consider yourself to be a fan of the Star Wars film franchise?'].value_counts()"
   ]
  },
  {
   "cell_type": "code",
   "execution_count": 8,
   "metadata": {},
   "outputs": [
    {
     "data": {
      "text/plain": [
       "YES    552\n",
       "NO     284\n",
       "Name: Do you consider yourself to be a fan of the Star Wars film franchise?, dtype: int64"
      ]
     },
     "execution_count": 8,
     "metadata": {},
     "output_type": "execute_result"
    }
   ],
   "source": [
    "# Fixing typos and capitalising text data\n",
    "sw_data['Do you consider yourself to be a fan of the Star Wars film franchise?'] = sw_data['Do you consider yourself to be a fan of the Star Wars film franchise?'].str.replace('Yess', 'Yes')\n",
    "sw_data['Do you consider yourself to be a fan of the Star Wars film franchise?'] = sw_data['Do you consider yourself to be a fan of the Star Wars film franchise?'].str.replace('Noo', 'No')\n",
    "sw_data['Do you consider yourself to be a fan of the Star Wars film franchise?'] = sw_data['Do you consider yourself to be a fan of the Star Wars film franchise?'].str.upper()\n",
    "sw_data['Do you consider yourself to be a fan of the Star Wars film franchise?'].value_counts()"
   ]
  },
  {
   "cell_type": "code",
   "execution_count": 9,
   "metadata": {},
   "outputs": [
    {
     "data": {
      "text/plain": [
       "YES           552\n",
       "UNANSWERED    350\n",
       "NO            284\n",
       "Name: Do you consider yourself to be a fan of the Star Wars film franchise?, dtype: int64"
      ]
     },
     "execution_count": 9,
     "metadata": {},
     "output_type": "execute_result"
    }
   ],
   "source": [
    "# There are missing values as the number of observations in this column do not add up to 1186\n",
    "# We assign a string named 'UNANSWERED' to each instance of a missing observation\n",
    "sw_data['Do you consider yourself to be a fan of the Star Wars film franchise?'] = sw_data['Do you consider yourself to be a fan of the Star Wars film franchise?'].fillna('UNANSWERED')\n",
    "sw_data['Do you consider yourself to be a fan of the Star Wars film franchise?'].value_counts()"
   ]
  },
  {
   "cell_type": "code",
   "execution_count": 10,
   "metadata": {},
   "outputs": [
    {
     "data": {
      "text/plain": [
       "Star Wars: Episode I  The Phantom Menace    673\n",
       "Name: Seen SWE1, dtype: int64"
      ]
     },
     "execution_count": 10,
     "metadata": {},
     "output_type": "execute_result"
    }
   ],
   "source": [
    "# Checking for typos, extra whitespaces, and missing values\n",
    "sw_data['Seen SWE1'].value_counts()"
   ]
  },
  {
   "cell_type": "code",
   "execution_count": 11,
   "metadata": {},
   "outputs": [
    {
     "data": {
      "text/plain": [
       "STAR WARS: EPISODE I  THE PHANTOM MENACE    673\n",
       "NOT SELECTED                                513\n",
       "Name: Seen SWE1, dtype: int64"
      ]
     },
     "execution_count": 11,
     "metadata": {},
     "output_type": "execute_result"
    }
   ],
   "source": [
    "# There are missing values, so we assign a string named 'NOT SEEN' to each instance of a missing observation\n",
    "# We also capitalise text data\n",
    "sw_data['Seen SWE1'] = sw_data['Seen SWE1'].fillna('NOT SELECTED')\n",
    "sw_data['Seen SWE1'] = sw_data['Seen SWE1'].str.upper()\n",
    "sw_data['Seen SWE1'].value_counts()"
   ]
  },
  {
   "cell_type": "code",
   "execution_count": 12,
   "metadata": {},
   "outputs": [
    {
     "data": {
      "text/plain": [
       "Star Wars: Episode II  Attack of the Clones    571\n",
       "Name: Seen SWE2, dtype: int64"
      ]
     },
     "execution_count": 12,
     "metadata": {},
     "output_type": "execute_result"
    }
   ],
   "source": [
    "# Checking for typos, extra whitespaces, and missing values\n",
    "sw_data['Seen SWE2'].value_counts()"
   ]
  },
  {
   "cell_type": "code",
   "execution_count": 13,
   "metadata": {},
   "outputs": [
    {
     "data": {
      "text/plain": [
       "NOT SELECTED                                   615\n",
       "STAR WARS: EPISODE II  ATTACK OF THE CLONES    571\n",
       "Name: Seen SWE2, dtype: int64"
      ]
     },
     "execution_count": 13,
     "metadata": {},
     "output_type": "execute_result"
    }
   ],
   "source": [
    "# There are missing values, so we assign a string named 'NOT SEEN' to each instance of a missing observation\n",
    "# We also capitalise text data\n",
    "sw_data['Seen SWE2'] = sw_data['Seen SWE2'].fillna('NOT SELECTED')\n",
    "sw_data['Seen SWE2'] = sw_data['Seen SWE2'].str.upper()\n",
    "sw_data['Seen SWE2'].value_counts()"
   ]
  },
  {
   "cell_type": "code",
   "execution_count": 14,
   "metadata": {},
   "outputs": [
    {
     "data": {
      "text/plain": [
       "Star Wars: Episode III  Revenge of the Sith    550\n",
       "Name: Seen SWE3, dtype: int64"
      ]
     },
     "execution_count": 14,
     "metadata": {},
     "output_type": "execute_result"
    }
   ],
   "source": [
    "# Checking for typos, extra whitespaces, and missing values\n",
    "sw_data['Seen SWE3'].value_counts()"
   ]
  },
  {
   "cell_type": "code",
   "execution_count": 15,
   "metadata": {},
   "outputs": [
    {
     "data": {
      "text/plain": [
       "NOT SELECTED                                   636\n",
       "STAR WARS: EPISODE III  REVENGE OF THE SITH    550\n",
       "Name: Seen SWE3, dtype: int64"
      ]
     },
     "execution_count": 15,
     "metadata": {},
     "output_type": "execute_result"
    }
   ],
   "source": [
    "# There are missing values, so we assign a string named 'NOT SEEN' to each instance of a missing observation\n",
    "# We also capitalise text data\n",
    "sw_data['Seen SWE3'] = sw_data['Seen SWE3'].fillna('NOT SELECTED')\n",
    "sw_data['Seen SWE3'] = sw_data['Seen SWE3'].str.upper()\n",
    "sw_data['Seen SWE3'].value_counts()"
   ]
  },
  {
   "cell_type": "code",
   "execution_count": 16,
   "metadata": {},
   "outputs": [
    {
     "data": {
      "text/plain": [
       "Star Wars: Episode IV  A New Hope    607\n",
       "Name: Seen SWE4, dtype: int64"
      ]
     },
     "execution_count": 16,
     "metadata": {},
     "output_type": "execute_result"
    }
   ],
   "source": [
    "# Checking for typos, extra whitespaces, and missing values\n",
    "sw_data['Seen SWE4'].value_counts()"
   ]
  },
  {
   "cell_type": "code",
   "execution_count": 17,
   "metadata": {},
   "outputs": [
    {
     "data": {
      "text/plain": [
       "STAR WARS: EPISODE IV  A NEW HOPE    607\n",
       "NOT SELECTED                         579\n",
       "Name: Seen SWE4, dtype: int64"
      ]
     },
     "execution_count": 17,
     "metadata": {},
     "output_type": "execute_result"
    }
   ],
   "source": [
    "# There are missing values, so we assign a string named 'NOT SEEN' to each instance of a missing observation\n",
    "# We also capitalise text data\n",
    "sw_data['Seen SWE4'] = sw_data['Seen SWE4'].fillna('NOT SELECTED')\n",
    "sw_data['Seen SWE4'] = sw_data['Seen SWE4'].str.upper()\n",
    "sw_data['Seen SWE4'].value_counts()"
   ]
  },
  {
   "cell_type": "code",
   "execution_count": 18,
   "metadata": {},
   "outputs": [
    {
     "data": {
      "text/plain": [
       "Star Wars: Episode V The Empire Strikes Back    758\n",
       "Name: Seen SWE5, dtype: int64"
      ]
     },
     "execution_count": 18,
     "metadata": {},
     "output_type": "execute_result"
    }
   ],
   "source": [
    "# Checking for typos, extra whitespaces, and missing values\n",
    "sw_data['Seen SWE5'].value_counts()"
   ]
  },
  {
   "cell_type": "code",
   "execution_count": 19,
   "metadata": {},
   "outputs": [
    {
     "data": {
      "text/plain": [
       "STAR WARS: EPISODE V THE EMPIRE STRIKES BACK    758\n",
       "NOT SELECTED                                    428\n",
       "Name: Seen SWE5, dtype: int64"
      ]
     },
     "execution_count": 19,
     "metadata": {},
     "output_type": "execute_result"
    }
   ],
   "source": [
    "# There are missing values, so we assign a string named 'NOT SEEN' to each instance of a missing observation\n",
    "# We also capitalise text data\n",
    "sw_data['Seen SWE5'] = sw_data['Seen SWE5'].fillna('NOT SELECTED')\n",
    "sw_data['Seen SWE5'] = sw_data['Seen SWE5'].str.upper()\n",
    "sw_data['Seen SWE5'].value_counts()"
   ]
  },
  {
   "cell_type": "code",
   "execution_count": 20,
   "metadata": {},
   "outputs": [
    {
     "data": {
      "text/plain": [
       "Star Wars: Episode VI Return of the Jedi    738\n",
       "Name: Seen SWE6, dtype: int64"
      ]
     },
     "execution_count": 20,
     "metadata": {},
     "output_type": "execute_result"
    }
   ],
   "source": [
    "# Checking for typos, extra whitespaces, and missing values\n",
    "sw_data['Seen SWE6'].value_counts()"
   ]
  },
  {
   "cell_type": "code",
   "execution_count": 21,
   "metadata": {},
   "outputs": [
    {
     "data": {
      "text/plain": [
       "STAR WARS: EPISODE VI RETURN OF THE JEDI    738\n",
       "NOT SELECTED                                448\n",
       "Name: Seen SWE6, dtype: int64"
      ]
     },
     "execution_count": 21,
     "metadata": {},
     "output_type": "execute_result"
    }
   ],
   "source": [
    "# There are missing values, so we assign a string named 'NOT SEEN' to each instance of a missing observation\n",
    "# We also capitalise text data\n",
    "sw_data['Seen SWE6'] = sw_data['Seen SWE6'].fillna('NOT SELECTED')\n",
    "sw_data['Seen SWE6'] = sw_data['Seen SWE6'].str.upper()\n",
    "sw_data['Seen SWE6'].value_counts()"
   ]
  },
  {
   "cell_type": "code",
   "execution_count": 22,
   "metadata": {},
   "outputs": [
    {
     "data": {
      "text/plain": [
       "4.0    237\n",
       "6.0    168\n",
       "3.0    130\n",
       "1.0    129\n",
       "5.0    100\n",
       "2.0     71\n",
       "Name: Preference Ranking SWE1, dtype: int64"
      ]
     },
     "execution_count": 22,
     "metadata": {},
     "output_type": "execute_result"
    }
   ],
   "source": [
    "# Checking for typos, extra whitespaces, and missing values\n",
    "sw_data['Preference Ranking SWE1'].value_counts()\n",
    "# It is obvious there are many missing values as the overall count of the rankings adds up to far less than 1186 \n",
    "# observations, so we will not assign a numerical value to each instance of a missing observation; we will ignore\n",
    "# them later in analysis"
   ]
  },
  {
   "cell_type": "code",
   "execution_count": 23,
   "metadata": {},
   "outputs": [
    {
     "data": {
      "text/plain": [
       "5.0    300\n",
       "4.0    183\n",
       "2.0    116\n",
       "3.0    103\n",
       "6.0    102\n",
       "1.0     32\n",
       "Name: Preference Ranking SWE2, dtype: int64"
      ]
     },
     "execution_count": 23,
     "metadata": {},
     "output_type": "execute_result"
    }
   ],
   "source": [
    "# Checking for typos, extra whitespaces, and missing values\n",
    "sw_data['Preference Ranking SWE2'].value_counts()\n",
    "# It is obvious there are many missing values as the overall count of the rankings adds up to far less than 1186 \n",
    "# observations, so we will not assign a numerical value to each instance of a missing observation; we will ignore\n",
    "# them later in analysis"
   ]
  },
  {
   "cell_type": "code",
   "execution_count": 24,
   "metadata": {},
   "outputs": [
    {
     "data": {
      "text/plain": [
       "6.0    217\n",
       "5.0    203\n",
       "4.0    182\n",
       "3.0    150\n",
       "2.0     47\n",
       "1.0     36\n",
       "Name: Preference Ranking SWE3, dtype: int64"
      ]
     },
     "execution_count": 24,
     "metadata": {},
     "output_type": "execute_result"
    }
   ],
   "source": [
    "# Checking for typos, extra whitespaces, and missing values\n",
    "sw_data['Preference Ranking SWE3'].value_counts()\n",
    "# It is obvious there are many missing values as the overall count of the rankings adds up to far less than 1186 \n",
    "# observations, so we will not assign a numerical value to each instance of a missing observation; we will ignore\n",
    "# them later in analysis"
   ]
  },
  {
   "cell_type": "code",
   "execution_count": 25,
   "metadata": {},
   "outputs": [
    {
     "data": {
      "text/plain": [
       "1.0    204\n",
       "6.0    161\n",
       "2.0    135\n",
       "4.0    130\n",
       "3.0    127\n",
       "5.0     79\n",
       "Name: Preference Ranking SWE4, dtype: int64"
      ]
     },
     "execution_count": 25,
     "metadata": {},
     "output_type": "execute_result"
    }
   ],
   "source": [
    "# Checking for typos, extra whitespaces, and missing values\n",
    "sw_data['Preference Ranking SWE4'].value_counts()\n",
    "# It is obvious there are many missing values as the overall count of the rankings adds up to far less than 1186 \n",
    "# observations, so we will not assign a numerical value to each instance of a missing observation; we will ignore\n",
    "# them later in analysis"
   ]
  },
  {
   "cell_type": "code",
   "execution_count": 26,
   "metadata": {},
   "outputs": [
    {
     "data": {
      "text/plain": [
       "1.0    289\n",
       "2.0    235\n",
       "5.0    118\n",
       "3.0    106\n",
       "4.0     47\n",
       "6.0     41\n",
       "Name: Preference Ranking SWE5, dtype: int64"
      ]
     },
     "execution_count": 26,
     "metadata": {},
     "output_type": "execute_result"
    }
   ],
   "source": [
    "# Checking for typos, extra whitespaces, and missing values\n",
    "sw_data['Preference Ranking SWE5'].value_counts()\n",
    "# It is obvious there are many missing values as the overall count of the rankings adds up to far less than 1186 \n",
    "# observations, so we will not assign a numerical value to each instance of a missing observation; we will ignore\n",
    "# them later in analysis"
   ]
  },
  {
   "cell_type": "code",
   "execution_count": 27,
   "metadata": {},
   "outputs": [
    {
     "data": {
      "text/plain": [
       "2.0    232\n",
       "3.0    220\n",
       "1.0    146\n",
       "6.0    145\n",
       "4.0     57\n",
       "5.0     36\n",
       "Name: Preference Ranking SWE6, dtype: int64"
      ]
     },
     "execution_count": 27,
     "metadata": {},
     "output_type": "execute_result"
    }
   ],
   "source": [
    "# Checking for typos, extra whitespaces, and missing values\n",
    "sw_data['Preference Ranking SWE6'].value_counts()\n",
    "# It is obvious there are many missing values as the overall count of the rankings adds up to far less than 1186 \n",
    "# observations, so we will not assign a numerical value to each instance of a missing observation; we will ignore\n",
    "# them later in analysis"
   ]
  },
  {
   "cell_type": "code",
   "execution_count": 28,
   "metadata": {},
   "outputs": [
    {
     "data": {
      "text/plain": [
       "Very favorably                                 610\n",
       "Somewhat favorably                             151\n",
       "Neither favorably nor unfavorably (neutral)     44\n",
       "Unfamiliar (N/A)                                15\n",
       "Somewhat unfavorably                             8\n",
       "Very unfavorably                                 1\n",
       "Name: Han Solo View, dtype: int64"
      ]
     },
     "execution_count": 28,
     "metadata": {},
     "output_type": "execute_result"
    }
   ],
   "source": [
    "# Checking for typos, extra whitespaces, and missing values\n",
    "sw_data['Han Solo View'].value_counts()"
   ]
  },
  {
   "cell_type": "code",
   "execution_count": 29,
   "metadata": {},
   "outputs": [
    {
     "data": {
      "text/plain": [
       "VERY FAVORABLY                                 610\n",
       "UNANSWERED                                     357\n",
       "SOMEWHAT FAVORABLY                             151\n",
       "NEITHER FAVORABLY NOR UNFAVORABLY (NEUTRAL)     44\n",
       "UNFAMILIAR (N/A)                                15\n",
       "SOMEWHAT UNFAVORABLY                             8\n",
       "VERY UNFAVORABLY                                 1\n",
       "Name: Han Solo View, dtype: int64"
      ]
     },
     "execution_count": 29,
     "metadata": {},
     "output_type": "execute_result"
    }
   ],
   "source": [
    "# There are many missing values, so we assign a string named 'UNANSWERED' to each instance of a missing observation\n",
    "# We also capitalise text data\n",
    "sw_data['Han Solo View'] = sw_data['Han Solo View'].fillna('UNANSWERED')\n",
    "sw_data['Han Solo View'] = sw_data['Han Solo View'].str.upper()\n",
    "sw_data['Han Solo View'].value_counts()"
   ]
  },
  {
   "cell_type": "code",
   "execution_count": 30,
   "metadata": {},
   "outputs": [
    {
     "data": {
      "text/plain": [
       "Very favorably                                 552\n",
       "Somewhat favorably                             219\n",
       "Neither favorably nor unfavorably (neutral)     38\n",
       "Somewhat unfavorably                            13\n",
       "Unfamiliar (N/A)                                 6\n",
       "Very unfavorably                                 3\n",
       "Name: Luke Sywalker View, dtype: int64"
      ]
     },
     "execution_count": 30,
     "metadata": {},
     "output_type": "execute_result"
    }
   ],
   "source": [
    "# Checking for typos, extra whitespaces, and missing values\n",
    "sw_data['Luke Sywalker View'].value_counts()"
   ]
  },
  {
   "cell_type": "code",
   "execution_count": 31,
   "metadata": {},
   "outputs": [
    {
     "data": {
      "text/plain": [
       "VERY FAVORABLY                                 552\n",
       "UNANSWERED                                     355\n",
       "SOMEWHAT FAVORABLY                             219\n",
       "NEITHER FAVORABLY NOR UNFAVORABLY (NEUTRAL)     38\n",
       "SOMEWHAT UNFAVORABLY                            13\n",
       "UNFAMILIAR (N/A)                                 6\n",
       "VERY UNFAVORABLY                                 3\n",
       "Name: Luke Sywalker View, dtype: int64"
      ]
     },
     "execution_count": 31,
     "metadata": {},
     "output_type": "execute_result"
    }
   ],
   "source": [
    "# There are many missing values, so we assign a string named 'UNANSWERED' to each instance of a missing observation\n",
    "# We also capitalise text data\n",
    "sw_data['Luke Sywalker View'] = sw_data['Luke Sywalker View'].fillna('UNANSWERED')\n",
    "sw_data['Luke Sywalker View'] = sw_data['Luke Sywalker View'].str.upper()\n",
    "sw_data['Luke Sywalker View'].value_counts()"
   ]
  },
  {
   "cell_type": "code",
   "execution_count": 32,
   "metadata": {},
   "outputs": [
    {
     "data": {
      "text/plain": [
       "Very favorably                                 547\n",
       "Somewhat favorably                             210\n",
       "Neither favorably nor unfavorably (neutral)     48\n",
       "Somewhat unfavorably                            12\n",
       "Unfamiliar (N/A)                                 8\n",
       "Very unfavorably                                 6\n",
       "Name: Princess Leia Organa View, dtype: int64"
      ]
     },
     "execution_count": 32,
     "metadata": {},
     "output_type": "execute_result"
    }
   ],
   "source": [
    "# Checking for typos, extra whitespaces, and missing values\n",
    "sw_data['Princess Leia Organa View'].value_counts()"
   ]
  },
  {
   "cell_type": "code",
   "execution_count": 33,
   "metadata": {},
   "outputs": [
    {
     "data": {
      "text/plain": [
       "VERY FAVORABLY                                 547\n",
       "UNANSWERED                                     355\n",
       "SOMEWHAT FAVORABLY                             210\n",
       "NEITHER FAVORABLY NOR UNFAVORABLY (NEUTRAL)     48\n",
       "SOMEWHAT UNFAVORABLY                            12\n",
       "UNFAMILIAR (N/A)                                 8\n",
       "VERY UNFAVORABLY                                 6\n",
       "Name: Princess Leia Organa View, dtype: int64"
      ]
     },
     "execution_count": 33,
     "metadata": {},
     "output_type": "execute_result"
    }
   ],
   "source": [
    "# There are many missing values, so we assign a string named 'UNANSWERED' to each instance of a missing observation\n",
    "# We also capitalise text data\n",
    "sw_data['Princess Leia Organa View'] = sw_data['Princess Leia Organa View'].fillna('UNANSWERED')\n",
    "sw_data['Princess Leia Organa View'] = sw_data['Princess Leia Organa View'].str.upper()\n",
    "sw_data['Princess Leia Organa View'].value_counts()"
   ]
  },
  {
   "cell_type": "code",
   "execution_count": 34,
   "metadata": {},
   "outputs": [
    {
     "data": {
      "text/plain": [
       "Somewhat favorably                             269\n",
       "Very favorably                                 245\n",
       "Neither favorably nor unfavorably (neutral)    135\n",
       "Somewhat unfavorably                            83\n",
       "Unfamiliar (N/A)                                52\n",
       "Very unfavorably                                39\n",
       "Name: Anakin Skywalker View, dtype: int64"
      ]
     },
     "execution_count": 34,
     "metadata": {},
     "output_type": "execute_result"
    }
   ],
   "source": [
    "# Checking for typos, extra whitespaces, and missing values\n",
    "sw_data['Anakin Skywalker View'].value_counts()"
   ]
  },
  {
   "cell_type": "code",
   "execution_count": 35,
   "metadata": {},
   "outputs": [
    {
     "data": {
      "text/plain": [
       "UNANSWERED                                     363\n",
       "SOMEWHAT FAVORABLY                             269\n",
       "VERY FAVORABLY                                 245\n",
       "NEITHER FAVORABLY NOR UNFAVORABLY (NEUTRAL)    135\n",
       "SOMEWHAT UNFAVORABLY                            83\n",
       "UNFAMILIAR (N/A)                                52\n",
       "VERY UNFAVORABLY                                39\n",
       "Name: Anakin Skywalker View, dtype: int64"
      ]
     },
     "execution_count": 35,
     "metadata": {},
     "output_type": "execute_result"
    }
   ],
   "source": [
    "# There are many missing values, so we assign a string named 'UNANSWERED' to each instance of a missing observation\n",
    "# We also capitalise text data\n",
    "sw_data['Anakin Skywalker View'] = sw_data['Anakin Skywalker View'].fillna('UNANSWERED')\n",
    "sw_data['Anakin Skywalker View'] = sw_data['Anakin Skywalker View'].str.upper()\n",
    "sw_data['Anakin Skywalker View'].value_counts()"
   ]
  },
  {
   "cell_type": "code",
   "execution_count": 36,
   "metadata": {},
   "outputs": [
    {
     "data": {
      "text/plain": [
       "Very favorably                                 591\n",
       "Somewhat favorably                             159\n",
       "Neither favorably nor unfavorably (neutral)     43\n",
       "Unfamiliar (N/A)                                17\n",
       "Somewhat unfavorably                             8\n",
       "Very unfavorably                                 7\n",
       "Name: Obi Wan Kenobi View, dtype: int64"
      ]
     },
     "execution_count": 36,
     "metadata": {},
     "output_type": "execute_result"
    }
   ],
   "source": [
    "# Checking for typos, extra whitespaces, and missing values\n",
    "sw_data['Obi Wan Kenobi View'].value_counts()"
   ]
  },
  {
   "cell_type": "code",
   "execution_count": 37,
   "metadata": {},
   "outputs": [
    {
     "data": {
      "text/plain": [
       "VERY FAVORABLY                                 591\n",
       "UNANSWERED                                     361\n",
       "SOMEWHAT FAVORABLY                             159\n",
       "NEITHER FAVORABLY NOR UNFAVORABLY (NEUTRAL)     43\n",
       "UNFAMILIAR (N/A)                                17\n",
       "SOMEWHAT UNFAVORABLY                             8\n",
       "VERY UNFAVORABLY                                 7\n",
       "Name: Obi Wan Kenobi View, dtype: int64"
      ]
     },
     "execution_count": 37,
     "metadata": {},
     "output_type": "execute_result"
    }
   ],
   "source": [
    "# There are many missing values, so we assign a string named 'UNANSWERED' to each instance of a missing observation\n",
    "# We also capitalise text data\n",
    "sw_data['Obi Wan Kenobi View'] = sw_data['Obi Wan Kenobi View'].fillna('UNANSWERED')\n",
    "sw_data['Obi Wan Kenobi View'] = sw_data['Obi Wan Kenobi View'].str.upper()\n",
    "sw_data['Obi Wan Kenobi View'].value_counts()"
   ]
  },
  {
   "cell_type": "code",
   "execution_count": 38,
   "metadata": {},
   "outputs": [
    {
     "data": {
      "text/plain": [
       "Neither favorably nor unfavorably (neutral)    213\n",
       "Unfamiliar (N/A)                               156\n",
       "Somewhat favorably                             143\n",
       "Very unfavorably                               124\n",
       "Very favorably                                 110\n",
       "Somewhat unfavorably                            68\n",
       "Name: Emperor Palpatine View, dtype: int64"
      ]
     },
     "execution_count": 38,
     "metadata": {},
     "output_type": "execute_result"
    }
   ],
   "source": [
    "# Checking for typos, extra whitespaces, and missing values\n",
    "sw_data['Emperor Palpatine View'].value_counts()"
   ]
  },
  {
   "cell_type": "code",
   "execution_count": 39,
   "metadata": {},
   "outputs": [
    {
     "data": {
      "text/plain": [
       "UNANSWERED                                     372\n",
       "NEITHER FAVORABLY NOR UNFAVORABLY (NEUTRAL)    213\n",
       "UNFAMILIAR (N/A)                               156\n",
       "SOMEWHAT FAVORABLY                             143\n",
       "VERY UNFAVORABLY                               124\n",
       "VERY FAVORABLY                                 110\n",
       "SOMEWHAT UNFAVORABLY                            68\n",
       "Name: Emperor Palpatine View, dtype: int64"
      ]
     },
     "execution_count": 39,
     "metadata": {},
     "output_type": "execute_result"
    }
   ],
   "source": [
    "# There are many missing values, so we assign a string named 'UNANSWERED' to each instance of a missing observation\n",
    "# We also capitalise text data\n",
    "sw_data['Emperor Palpatine View'] = sw_data['Emperor Palpatine View'].fillna('UNANSWERED')\n",
    "sw_data['Emperor Palpatine View'] = sw_data['Emperor Palpatine View'].str.upper()\n",
    "sw_data['Emperor Palpatine View'].value_counts()"
   ]
  },
  {
   "cell_type": "code",
   "execution_count": 40,
   "metadata": {},
   "outputs": [
    {
     "data": {
      "text/plain": [
       "Very favorably                                 310\n",
       "Somewhat favorably                             171\n",
       "Very unfavorably                               149\n",
       "Somewhat unfavorably                           102\n",
       "Neither favorably nor unfavorably (neutral)     84\n",
       "Unfamiliar (N/A)                                10\n",
       "Name: Darth Vader View, dtype: int64"
      ]
     },
     "execution_count": 40,
     "metadata": {},
     "output_type": "execute_result"
    }
   ],
   "source": [
    "# Checking for typos, extra whitespaces, and missing values\n",
    "sw_data['Darth Vader View'].value_counts()"
   ]
  },
  {
   "cell_type": "code",
   "execution_count": 41,
   "metadata": {},
   "outputs": [
    {
     "data": {
      "text/plain": [
       "UNANSWERED                                     360\n",
       "VERY FAVORABLY                                 310\n",
       "SOMEWHAT FAVORABLY                             171\n",
       "VERY UNFAVORABLY                               149\n",
       "SOMEWHAT UNFAVORABLY                           102\n",
       "NEITHER FAVORABLY NOR UNFAVORABLY (NEUTRAL)     84\n",
       "UNFAMILIAR (N/A)                                10\n",
       "Name: Darth Vader View, dtype: int64"
      ]
     },
     "execution_count": 41,
     "metadata": {},
     "output_type": "execute_result"
    }
   ],
   "source": [
    "# There are many missing values, so we assign a string named 'UNANSWERED' to each instance of a missing observation\n",
    "# We also capitalise text data\n",
    "sw_data['Darth Vader View'] = sw_data['Darth Vader View'].fillna('UNANSWERED')\n",
    "sw_data['Darth Vader View'] = sw_data['Darth Vader View'].str.upper()\n",
    "sw_data['Darth Vader View'].value_counts()"
   ]
  },
  {
   "cell_type": "code",
   "execution_count": 42,
   "metadata": {},
   "outputs": [
    {
     "data": {
      "text/plain": [
       "Neither favorably nor unfavorably (neutral)    236\n",
       "Somewhat favorably                             223\n",
       "Unfamiliar (N/A)                               148\n",
       "Very favorably                                 142\n",
       "Somewhat unfavorably                            63\n",
       "Very unfavorably                                 8\n",
       "Name: Lando Calrissian View, dtype: int64"
      ]
     },
     "execution_count": 42,
     "metadata": {},
     "output_type": "execute_result"
    }
   ],
   "source": [
    "# Checking for typos, extra whitespaces, and missing values\n",
    "sw_data['Lando Calrissian View'].value_counts()"
   ]
  },
  {
   "cell_type": "code",
   "execution_count": 43,
   "metadata": {},
   "outputs": [
    {
     "data": {
      "text/plain": [
       "UNANSWERED                                     366\n",
       "NEITHER FAVORABLY NOR UNFAVORABLY (NEUTRAL)    236\n",
       "SOMEWHAT FAVORABLY                             223\n",
       "UNFAMILIAR (N/A)                               148\n",
       "VERY FAVORABLY                                 142\n",
       "SOMEWHAT UNFAVORABLY                            63\n",
       "VERY UNFAVORABLY                                 8\n",
       "Name: Lando Calrissian View, dtype: int64"
      ]
     },
     "execution_count": 43,
     "metadata": {},
     "output_type": "execute_result"
    }
   ],
   "source": [
    "# There are many missing values, so we assign a string named 'UNANSWERED' to each instance of a missing observation\n",
    "# We also capitalise text data\n",
    "sw_data['Lando Calrissian View'] = sw_data['Lando Calrissian View'].fillna('UNANSWERED')\n",
    "sw_data['Lando Calrissian View'] = sw_data['Lando Calrissian View'].str.upper()\n",
    "sw_data['Lando Calrissian View'].value_counts()"
   ]
  },
  {
   "cell_type": "code",
   "execution_count": 44,
   "metadata": {},
   "outputs": [
    {
     "data": {
      "text/plain": [
       "Neither favorably nor unfavorably (neutral)    248\n",
       "Somewhat favorably                             153\n",
       "Very favorably                                 138\n",
       "Unfamiliar (N/A)                               132\n",
       "Somewhat unfavorably                            96\n",
       "Very unfavorably                                45\n",
       "Name: Boba Fett View, dtype: int64"
      ]
     },
     "execution_count": 44,
     "metadata": {},
     "output_type": "execute_result"
    }
   ],
   "source": [
    "# Checking for typos, extra whitespaces, and missing values\n",
    "sw_data['Boba Fett View'].value_counts()"
   ]
  },
  {
   "cell_type": "code",
   "execution_count": 45,
   "metadata": {},
   "outputs": [
    {
     "data": {
      "text/plain": [
       "UNANSWERED                                     374\n",
       "NEITHER FAVORABLY NOR UNFAVORABLY (NEUTRAL)    248\n",
       "SOMEWHAT FAVORABLY                             153\n",
       "VERY FAVORABLY                                 138\n",
       "UNFAMILIAR (N/A)                               132\n",
       "SOMEWHAT UNFAVORABLY                            96\n",
       "VERY UNFAVORABLY                                45\n",
       "Name: Boba Fett View, dtype: int64"
      ]
     },
     "execution_count": 45,
     "metadata": {},
     "output_type": "execute_result"
    }
   ],
   "source": [
    "# There are many missing values, so we assign a string named 'UNANSWERED' to each instance of a missing observation\n",
    "# We also capitalise text data\n",
    "sw_data['Boba Fett View'] = sw_data['Boba Fett View'].fillna('UNANSWERED')\n",
    "sw_data['Boba Fett View'] = sw_data['Boba Fett View'].str.upper()\n",
    "sw_data['Boba Fett View'].value_counts()"
   ]
  },
  {
   "cell_type": "code",
   "execution_count": 46,
   "metadata": {},
   "outputs": [
    {
     "data": {
      "text/plain": [
       "Very favorably                                 474\n",
       "Somewhat favorably                             229\n",
       "Neither favorably nor unfavorably (neutral)     79\n",
       "Somewhat unfavorably                            23\n",
       "Unfamiliar (N/A)                                15\n",
       "Very unfavorably                                 7\n",
       "Name: C-3P0 View, dtype: int64"
      ]
     },
     "execution_count": 46,
     "metadata": {},
     "output_type": "execute_result"
    }
   ],
   "source": [
    "# Checking for typos, extra whitespaces, and missing values\n",
    "sw_data['C-3P0 View'].value_counts()"
   ]
  },
  {
   "cell_type": "code",
   "execution_count": 47,
   "metadata": {},
   "outputs": [
    {
     "data": {
      "text/plain": [
       "VERY FAVORABLY                                 474\n",
       "UNANSWERED                                     359\n",
       "SOMEWHAT FAVORABLY                             229\n",
       "NEITHER FAVORABLY NOR UNFAVORABLY (NEUTRAL)     79\n",
       "SOMEWHAT UNFAVORABLY                            23\n",
       "UNFAMILIAR (N/A)                                15\n",
       "VERY UNFAVORABLY                                 7\n",
       "Name: C-3P0 View, dtype: int64"
      ]
     },
     "execution_count": 47,
     "metadata": {},
     "output_type": "execute_result"
    }
   ],
   "source": [
    "# There are many missing values, so we assign a string named 'UNANSWERED' to each instance of a missing observation\n",
    "# We also capitalise text data\n",
    "sw_data['C-3P0 View'] = sw_data['C-3P0 View'].fillna('UNANSWERED')\n",
    "sw_data['C-3P0 View'] = sw_data['C-3P0 View'].str.upper()\n",
    "sw_data['C-3P0 View'].value_counts()"
   ]
  },
  {
   "cell_type": "code",
   "execution_count": 48,
   "metadata": {},
   "outputs": [
    {
     "data": {
      "text/plain": [
       "Very favorably                                 562\n",
       "Somewhat favorably                             185\n",
       "Neither favorably nor unfavorably (neutral)     57\n",
       "Unfamiliar (N/A)                                10\n",
       "Somewhat unfavorably                            10\n",
       "Very unfavorably                                 6\n",
       "Name: R2 D2 View, dtype: int64"
      ]
     },
     "execution_count": 48,
     "metadata": {},
     "output_type": "execute_result"
    }
   ],
   "source": [
    "# Checking for typos, extra whitespaces, and missing values\n",
    "sw_data['R2 D2 View'].value_counts()"
   ]
  },
  {
   "cell_type": "code",
   "execution_count": 49,
   "metadata": {},
   "outputs": [
    {
     "data": {
      "text/plain": [
       "VERY FAVORABLY                                 562\n",
       "UNANSWERED                                     356\n",
       "SOMEWHAT FAVORABLY                             185\n",
       "NEITHER FAVORABLY NOR UNFAVORABLY (NEUTRAL)     57\n",
       "SOMEWHAT UNFAVORABLY                            10\n",
       "UNFAMILIAR (N/A)                                10\n",
       "VERY UNFAVORABLY                                 6\n",
       "Name: R2 D2 View, dtype: int64"
      ]
     },
     "execution_count": 49,
     "metadata": {},
     "output_type": "execute_result"
    }
   ],
   "source": [
    "# There are many missing values, so we assign a string named 'UNANSWERED' to each instance of a missing observation\n",
    "# We also capitalise text data\n",
    "sw_data['R2 D2 View'] = sw_data['R2 D2 View'].fillna('UNANSWERED')\n",
    "sw_data['R2 D2 View'] = sw_data['R2 D2 View'].str.upper()\n",
    "sw_data['R2 D2 View'].value_counts()"
   ]
  },
  {
   "cell_type": "code",
   "execution_count": 50,
   "metadata": {},
   "outputs": [
    {
     "data": {
      "text/plain": [
       "Very unfavorably                               204\n",
       "Neither favorably nor unfavorably (neutral)    164\n",
       "Somewhat favorably                             130\n",
       "Very favorably                                 112\n",
       "Unfamiliar (N/A)                               109\n",
       "Somewhat unfavorably                           102\n",
       "Name: Jar Jar Binks View, dtype: int64"
      ]
     },
     "execution_count": 50,
     "metadata": {},
     "output_type": "execute_result"
    }
   ],
   "source": [
    "# Checking for typos, extra whitespaces, and missing values\n",
    "sw_data['Jar Jar Binks View'].value_counts()"
   ]
  },
  {
   "cell_type": "code",
   "execution_count": 51,
   "metadata": {},
   "outputs": [
    {
     "data": {
      "text/plain": [
       "UNANSWERED                                     365\n",
       "VERY UNFAVORABLY                               204\n",
       "NEITHER FAVORABLY NOR UNFAVORABLY (NEUTRAL)    164\n",
       "SOMEWHAT FAVORABLY                             130\n",
       "VERY FAVORABLY                                 112\n",
       "UNFAMILIAR (N/A)                               109\n",
       "SOMEWHAT UNFAVORABLY                           102\n",
       "Name: Jar Jar Binks View, dtype: int64"
      ]
     },
     "execution_count": 51,
     "metadata": {},
     "output_type": "execute_result"
    }
   ],
   "source": [
    "# There are many missing values, so we assign a string named 'UNANSWERED' to each instance of a missing observation\n",
    "# We also capitalise text data\n",
    "sw_data['Jar Jar Binks View'] = sw_data['Jar Jar Binks View'].fillna('UNANSWERED')\n",
    "sw_data['Jar Jar Binks View'] = sw_data['Jar Jar Binks View'].str.upper()\n",
    "sw_data['Jar Jar Binks View'].value_counts()"
   ]
  },
  {
   "cell_type": "code",
   "execution_count": 52,
   "metadata": {},
   "outputs": [
    {
     "data": {
      "text/plain": [
       "Neither favorably nor unfavorably (neutral)    207\n",
       "Somewhat favorably                             183\n",
       "Very favorably                                 168\n",
       "Unfamiliar (N/A)                               164\n",
       "Somewhat unfavorably                            58\n",
       "Very unfavorably                                34\n",
       "Name: Padme Amidala View, dtype: int64"
      ]
     },
     "execution_count": 52,
     "metadata": {},
     "output_type": "execute_result"
    }
   ],
   "source": [
    "# Checking for typos, extra whitespaces, and missing values\n",
    "sw_data['Padme Amidala View'].value_counts()"
   ]
  },
  {
   "cell_type": "code",
   "execution_count": 53,
   "metadata": {},
   "outputs": [
    {
     "data": {
      "text/plain": [
       "UNANSWERED                                     372\n",
       "NEITHER FAVORABLY NOR UNFAVORABLY (NEUTRAL)    207\n",
       "SOMEWHAT FAVORABLY                             183\n",
       "VERY FAVORABLY                                 168\n",
       "UNFAMILIAR (N/A)                               164\n",
       "SOMEWHAT UNFAVORABLY                            58\n",
       "VERY UNFAVORABLY                                34\n",
       "Name: Padme Amidala View, dtype: int64"
      ]
     },
     "execution_count": 53,
     "metadata": {},
     "output_type": "execute_result"
    }
   ],
   "source": [
    "# There are many missing values, so we assign a string named 'UNANSWERED' to each instance of a missing observation\n",
    "# We also capitalise text data\n",
    "sw_data['Padme Amidala View'] = sw_data['Padme Amidala View'].fillna('UNANSWERED')\n",
    "sw_data['Padme Amidala View'] = sw_data['Padme Amidala View'].str.upper()\n",
    "sw_data['Padme Amidala View'].value_counts()"
   ]
  },
  {
   "cell_type": "code",
   "execution_count": 54,
   "metadata": {},
   "outputs": [
    {
     "data": {
      "text/plain": [
       "Very favorably                                 605\n",
       "Somewhat favorably                             144\n",
       "Neither favorably nor unfavorably (neutral)     51\n",
       "Unfamiliar (N/A)                                10\n",
       "Very unfavorably                                 8\n",
       "Somewhat unfavorably                             8\n",
       "Name: Yoda View, dtype: int64"
      ]
     },
     "execution_count": 54,
     "metadata": {},
     "output_type": "execute_result"
    }
   ],
   "source": [
    "# Checking for typos, extra whitespaces, and missing values\n",
    "sw_data['Yoda View'].value_counts()"
   ]
  },
  {
   "cell_type": "code",
   "execution_count": 55,
   "metadata": {},
   "outputs": [
    {
     "data": {
      "text/plain": [
       "VERY FAVORABLY                                 605\n",
       "UNANSWERED                                     360\n",
       "SOMEWHAT FAVORABLY                             144\n",
       "NEITHER FAVORABLY NOR UNFAVORABLY (NEUTRAL)     51\n",
       "UNFAMILIAR (N/A)                                10\n",
       "SOMEWHAT UNFAVORABLY                             8\n",
       "VERY UNFAVORABLY                                 8\n",
       "Name: Yoda View, dtype: int64"
      ]
     },
     "execution_count": 55,
     "metadata": {},
     "output_type": "execute_result"
    }
   ],
   "source": [
    "# There are many missing values, so we assign a string named 'UNANSWERED' to each instance of a missing observation\n",
    "# We also capitalise text data\n",
    "sw_data['Yoda View'] = sw_data['Yoda View'].fillna('UNANSWERED')\n",
    "sw_data['Yoda View'] = sw_data['Yoda View'].str.upper()\n",
    "sw_data['Yoda View'].value_counts()"
   ]
  },
  {
   "cell_type": "code",
   "execution_count": 56,
   "metadata": {},
   "outputs": [
    {
     "data": {
      "text/plain": [
       "Han                                 325\n",
       "I don't understand this question    306\n",
       "Greedo                              197\n",
       "Name: Which character shot first?, dtype: int64"
      ]
     },
     "execution_count": 56,
     "metadata": {},
     "output_type": "execute_result"
    }
   ],
   "source": [
    "# Checking for typos, extra whitespaces, and missing values\n",
    "sw_data['Which character shot first?'].value_counts()"
   ]
  },
  {
   "cell_type": "code",
   "execution_count": 57,
   "metadata": {},
   "outputs": [
    {
     "data": {
      "text/plain": [
       "UNANSWERED                          358\n",
       "HAN                                 325\n",
       "I DON'T UNDERSTAND THIS QUESTION    306\n",
       "GREEDO                              197\n",
       "Name: Which character shot first?, dtype: int64"
      ]
     },
     "execution_count": 57,
     "metadata": {},
     "output_type": "execute_result"
    }
   ],
   "source": [
    "# There are many missing values, so we assign a string named 'UNANSWERED' to each instance of a missing observation\n",
    "# We also capitalise text data\n",
    "sw_data['Which character shot first?'] = sw_data['Which character shot first?'].fillna('UNANSWERED')\n",
    "sw_data['Which character shot first?'] = sw_data['Which character shot first?'].str.upper()\n",
    "sw_data['Which character shot first?'].value_counts()"
   ]
  },
  {
   "cell_type": "code",
   "execution_count": 58,
   "metadata": {},
   "outputs": [
    {
     "data": {
      "text/plain": [
       "No     615\n",
       "Yes    213\n",
       "Name: Are you familiar with the Expanded Universe?, dtype: int64"
      ]
     },
     "execution_count": 58,
     "metadata": {},
     "output_type": "execute_result"
    }
   ],
   "source": [
    "# Checking for typos, extra whitespaces, and missing values\n",
    "sw_data['Are you familiar with the Expanded Universe?'].value_counts()"
   ]
  },
  {
   "cell_type": "code",
   "execution_count": 59,
   "metadata": {},
   "outputs": [
    {
     "data": {
      "text/plain": [
       "NO            615\n",
       "UNANSWERED    358\n",
       "YES           213\n",
       "Name: Are you familiar with the Expanded Universe?, dtype: int64"
      ]
     },
     "execution_count": 59,
     "metadata": {},
     "output_type": "execute_result"
    }
   ],
   "source": [
    "# There are many missing values, so we assign a string named 'UNANSWERED' to each instance of a missing observation\n",
    "# We also capitalise text data\n",
    "sw_data['Are you familiar with the Expanded Universe?'] = sw_data['Are you familiar with the Expanded Universe?'].fillna('UNANSWERED')\n",
    "sw_data['Are you familiar with the Expanded Universe?'] = sw_data['Are you familiar with the Expanded Universe?'].str.upper()\n",
    "sw_data['Are you familiar with the Expanded Universe?'].value_counts()"
   ]
  },
  {
   "cell_type": "code",
   "execution_count": 60,
   "metadata": {},
   "outputs": [
    {
     "data": {
      "text/plain": [
       "No      114\n",
       "Yes      98\n",
       "Yess      1\n",
       "Name: Do you consider yourself to be a fan of the Expanded Universe?, dtype: int64"
      ]
     },
     "execution_count": 60,
     "metadata": {},
     "output_type": "execute_result"
    }
   ],
   "source": [
    "# Checking for typos, extra whitespaces, and missing values\n",
    "sw_data['Do you consider yourself to be a fan of the Expanded Universe?'].value_counts()"
   ]
  },
  {
   "cell_type": "code",
   "execution_count": 61,
   "metadata": {},
   "outputs": [
    {
     "data": {
      "text/plain": [
       "No     114\n",
       "Yes     99\n",
       "Name: Do you consider yourself to be a fan of the Expanded Universe?, dtype: int64"
      ]
     },
     "execution_count": 61,
     "metadata": {},
     "output_type": "execute_result"
    }
   ],
   "source": [
    "# Fixing typos\n",
    "sw_data['Do you consider yourself to be a fan of the Expanded Universe?'] = sw_data['Do you consider yourself to be a fan of the Expanded Universe?'].str.replace('Yess', 'Yes')\n",
    "sw_data['Do you consider yourself to be a fan of the Expanded Universe?'].value_counts()"
   ]
  },
  {
   "cell_type": "code",
   "execution_count": 62,
   "metadata": {},
   "outputs": [
    {
     "data": {
      "text/plain": [
       "UNANSWERED    973\n",
       "NO            114\n",
       "YES            99\n",
       "Name: Do you consider yourself to be a fan of the Expanded Universe?, dtype: int64"
      ]
     },
     "execution_count": 62,
     "metadata": {},
     "output_type": "execute_result"
    }
   ],
   "source": [
    "# There are many missing values, so we assign a string named 'UNANSWERED' to each instance of a missing observation\n",
    "# We also capitalise text data\n",
    "sw_data['Do you consider yourself to be a fan of the Expanded Universe?'] = sw_data['Do you consider yourself to be a fan of the Expanded Universe?'].fillna('UNANSWERED')\n",
    "sw_data['Do you consider yourself to be a fan of the Expanded Universe?'] = sw_data['Do you consider yourself to be a fan of the Expanded Universe?'].str.upper()\n",
    "sw_data['Do you consider yourself to be a fan of the Expanded Universe?'].value_counts()"
   ]
  },
  {
   "cell_type": "code",
   "execution_count": 63,
   "metadata": {},
   "outputs": [
    {
     "data": {
      "text/plain": [
       "No     639\n",
       "Yes    426\n",
       "Noo      1\n",
       "no       1\n",
       "yes      1\n",
       "Name: Do you consider yourself to be a fan of the Star Trek franchise?, dtype: int64"
      ]
     },
     "execution_count": 63,
     "metadata": {},
     "output_type": "execute_result"
    }
   ],
   "source": [
    "# Checking for typos, extra whitespaces, and missing values\n",
    "sw_data['Do you consider yourself to be a fan of the Star Trek franchise?'].value_counts()"
   ]
  },
  {
   "cell_type": "code",
   "execution_count": 64,
   "metadata": {},
   "outputs": [
    {
     "data": {
      "text/plain": [
       "No     640\n",
       "Yes    427\n",
       "No       1\n",
       "Name: Do you consider yourself to be a fan of the Star Trek franchise?, dtype: int64"
      ]
     },
     "execution_count": 64,
     "metadata": {},
     "output_type": "execute_result"
    }
   ],
   "source": [
    "# Fixing typos\n",
    "sw_data['Do you consider yourself to be a fan of the Star Trek franchise?'] = sw_data['Do you consider yourself to be a fan of the Star Trek franchise?'].str.replace('yes', 'Yes')\n",
    "sw_data['Do you consider yourself to be a fan of the Star Trek franchise?'] = sw_data['Do you consider yourself to be a fan of the Star Trek franchise?'].str.replace('no', 'No')\n",
    "sw_data['Do you consider yourself to be a fan of the Star Trek franchise?'] = sw_data['Do you consider yourself to be a fan of the Star Trek franchise?'].str.replace('Noo', 'No')\n",
    "sw_data['Do you consider yourself to be a fan of the Star Trek franchise?'].value_counts()"
   ]
  },
  {
   "cell_type": "code",
   "execution_count": 65,
   "metadata": {},
   "outputs": [
    {
     "data": {
      "text/plain": [
       "No     641\n",
       "Yes    427\n",
       "Name: Do you consider yourself to be a fan of the Star Trek franchise?, dtype: int64"
      ]
     },
     "execution_count": 65,
     "metadata": {},
     "output_type": "execute_result"
    }
   ],
   "source": [
    "# Fixing extra whitespaces\n",
    "sw_data['Do you consider yourself to be a fan of the Star Trek franchise?'] = sw_data['Do you consider yourself to be a fan of the Star Trek franchise?'].str.strip()\n",
    "sw_data['Do you consider yourself to be a fan of the Star Trek franchise?'].value_counts()"
   ]
  },
  {
   "cell_type": "code",
   "execution_count": 66,
   "metadata": {},
   "outputs": [
    {
     "data": {
      "text/plain": [
       "NO            641\n",
       "YES           427\n",
       "UNANSWERED    118\n",
       "Name: Do you consider yourself to be a fan of the Star Trek franchise?, dtype: int64"
      ]
     },
     "execution_count": 66,
     "metadata": {},
     "output_type": "execute_result"
    }
   ],
   "source": [
    "# There are many missing values, so we assign a string named 'UNANSWERED' to each instance of a missing observation\n",
    "# We also capitalise text data\n",
    "sw_data['Do you consider yourself to be a fan of the Star Trek franchise?'] = sw_data['Do you consider yourself to be a fan of the Star Trek franchise?'].fillna('UNANSWERED')\n",
    "sw_data['Do you consider yourself to be a fan of the Star Trek franchise?'] = sw_data['Do you consider yourself to be a fan of the Star Trek franchise?'].str.upper()\n",
    "sw_data['Do you consider yourself to be a fan of the Star Trek franchise?'].value_counts()"
   ]
  },
  {
   "cell_type": "code",
   "execution_count": 67,
   "metadata": {},
   "outputs": [
    {
     "data": {
      "text/plain": [
       "Female    546\n",
       "Male      496\n",
       "female      2\n",
       "F           1\n",
       "male        1\n",
       "Name: Gender, dtype: int64"
      ]
     },
     "execution_count": 67,
     "metadata": {},
     "output_type": "execute_result"
    }
   ],
   "source": [
    "# Checking for typos, extra whitespaces, and missing values\n",
    "sw_data['Gender'].value_counts()"
   ]
  },
  {
   "cell_type": "code",
   "execution_count": 68,
   "metadata": {},
   "outputs": [
    {
     "data": {
      "text/plain": [
       "FEMALE    549\n",
       "MALE      497\n",
       "Name: Gender, dtype: int64"
      ]
     },
     "execution_count": 68,
     "metadata": {},
     "output_type": "execute_result"
    }
   ],
   "source": [
    "# Fixing typos and extra whitespaces\n",
    "# We also capitalise text data\n",
    "sw_data['Gender'] = sw_data['Gender'].str.strip()\n",
    "sw_data['Gender'] = sw_data['Gender'].str.upper()\n",
    "sw_data['Gender'] = sw_data['Gender'].str.replace('FEMALE', 'F')\n",
    "sw_data['Gender'] = sw_data['Gender'].str.replace('F', 'FEMALE')\n",
    "sw_data['Gender'].value_counts()"
   ]
  },
  {
   "cell_type": "code",
   "execution_count": 69,
   "metadata": {},
   "outputs": [
    {
     "data": {
      "text/plain": [
       "FEMALE        549\n",
       "MALE          497\n",
       "UNANSWERED    140\n",
       "Name: Gender, dtype: int64"
      ]
     },
     "execution_count": 69,
     "metadata": {},
     "output_type": "execute_result"
    }
   ],
   "source": [
    "# There are some missing values, so we assign a string named 'UNANSWERED' to each instance of a missing observation\n",
    "sw_data['Gender'] = sw_data['Gender'].fillna('UNANSWERED')\n",
    "sw_data['Gender'].value_counts()"
   ]
  },
  {
   "cell_type": "code",
   "execution_count": 70,
   "metadata": {},
   "outputs": [
    {
     "data": {
      "text/plain": [
       "45-60    291\n",
       "> 60     269\n",
       "30-44    268\n",
       "18-29    217\n",
       "500        1\n",
       "Name: Age, dtype: int64"
      ]
     },
     "execution_count": 70,
     "metadata": {},
     "output_type": "execute_result"
    }
   ],
   "source": [
    "# Checking for typos, extra whitespaces, and missing values\n",
    "sw_data['Age'].value_counts()"
   ]
  },
  {
   "cell_type": "code",
   "execution_count": 71,
   "metadata": {},
   "outputs": [
    {
     "data": {
      "text/plain": [
       "45-60         291\n",
       "> 60          269\n",
       "30-44         268\n",
       "18-29         217\n",
       "UNANSWERED    141\n",
       "Name: Age, dtype: int64"
      ]
     },
     "execution_count": 71,
     "metadata": {},
     "output_type": "execute_result"
    }
   ],
   "source": [
    "# There are some missing values, so we assign a string named 'UNANSWERED' to each instance of a missing observation\n",
    "# There is also an impossible value, which will be also renamed as 'UNANSWERED', as we do not want to drop the \n",
    "# whole row because of this observation\n",
    "sw_data['Age'] = sw_data['Age'].fillna('UNANSWERED')\n",
    "sw_data['Age'] = sw_data['Age'].str.replace('500', 'UNANSWERED')\n",
    "sw_data['Age'].value_counts()"
   ]
  },
  {
   "cell_type": "code",
   "execution_count": 72,
   "metadata": {},
   "outputs": [
    {
     "data": {
      "text/plain": [
       "$50,000 - $99,999      298\n",
       "$25,000 - $49,999      186\n",
       "$100,000 - $149,999    141\n",
       "$0 - $24,999           138\n",
       "$150,000+               95\n",
       "Name: Household Income, dtype: int64"
      ]
     },
     "execution_count": 72,
     "metadata": {},
     "output_type": "execute_result"
    }
   ],
   "source": [
    "# Checking for typos, extra whitespaces, and missing values\n",
    "sw_data['Household Income'].value_counts()"
   ]
  },
  {
   "cell_type": "code",
   "execution_count": 73,
   "metadata": {},
   "outputs": [
    {
     "data": {
      "text/plain": [
       "UNANSWERED             328\n",
       "$50,000 - $99,999      298\n",
       "$25,000 - $49,999      186\n",
       "$100,000 - $149,999    141\n",
       "$0 - $24,999           138\n",
       "$150,000+               95\n",
       "Name: Household Income, dtype: int64"
      ]
     },
     "execution_count": 73,
     "metadata": {},
     "output_type": "execute_result"
    }
   ],
   "source": [
    "# There are some missing values, so we assign a string named 'UNANSWERED' to each instance of a missing observation\n",
    "sw_data['Household Income'] = sw_data['Household Income'].fillna('UNANSWERED')\n",
    "sw_data['Household Income'].value_counts()"
   ]
  },
  {
   "cell_type": "code",
   "execution_count": 74,
   "metadata": {},
   "outputs": [
    {
     "data": {
      "text/plain": [
       "Some college or Associate degree    328\n",
       "Bachelor degree                     321\n",
       "Graduate degree                     275\n",
       "High school degree                  105\n",
       "Less than high school degree          7\n",
       "Name: Education, dtype: int64"
      ]
     },
     "execution_count": 74,
     "metadata": {},
     "output_type": "execute_result"
    }
   ],
   "source": [
    "# Checking for typos, extra whitespaces, and missing values\n",
    "sw_data['Education'].value_counts()"
   ]
  },
  {
   "cell_type": "code",
   "execution_count": 75,
   "metadata": {},
   "outputs": [
    {
     "data": {
      "text/plain": [
       "SOME COLLEGE OR ASSOCIATE DEGREE    328\n",
       "BACHELOR DEGREE                     321\n",
       "GRADUATE DEGREE                     275\n",
       "UNANSWERED                          150\n",
       "HIGH SCHOOL DEGREE                  105\n",
       "LESS THAN HIGH SCHOOL DEGREE          7\n",
       "Name: Education, dtype: int64"
      ]
     },
     "execution_count": 75,
     "metadata": {},
     "output_type": "execute_result"
    }
   ],
   "source": [
    "# There are some missing values, so we assign a string named 'UNANSWERED' to each instance of a missing observation\n",
    "# We also capitalise data\n",
    "sw_data['Education'] = sw_data['Education'].fillna('UNANSWERED')\n",
    "sw_data['Education'] = sw_data['Education'].str.upper()\n",
    "sw_data['Education'].value_counts()"
   ]
  },
  {
   "cell_type": "code",
   "execution_count": 76,
   "metadata": {},
   "outputs": [
    {
     "data": {
      "text/plain": [
       "East North Central    181\n",
       "Pacific               175\n",
       "South Atlantic        170\n",
       "Middle Atlantic       122\n",
       "West South Central    110\n",
       "West North Central     93\n",
       "Mountain               79\n",
       "New England            75\n",
       "East South Central     38\n",
       "Name: Location (Census Region), dtype: int64"
      ]
     },
     "execution_count": 76,
     "metadata": {},
     "output_type": "execute_result"
    }
   ],
   "source": [
    "# Checking for typos, extra whitespaces, and missing values\n",
    "sw_data['Location (Census Region)'].value_counts()"
   ]
  },
  {
   "cell_type": "code",
   "execution_count": 77,
   "metadata": {},
   "outputs": [
    {
     "data": {
      "text/plain": [
       "EAST NORTH CENTRAL    181\n",
       "PACIFIC               175\n",
       "SOUTH ATLANTIC        170\n",
       "UNANSWERED            143\n",
       "MIDDLE ATLANTIC       122\n",
       "WEST SOUTH CENTRAL    110\n",
       "WEST NORTH CENTRAL     93\n",
       "MOUNTAIN               79\n",
       "NEW ENGLAND            75\n",
       "EAST SOUTH CENTRAL     38\n",
       "Name: Location (Census Region), dtype: int64"
      ]
     },
     "execution_count": 77,
     "metadata": {},
     "output_type": "execute_result"
    }
   ],
   "source": [
    "# There are some missing values, so we assign a string named 'UNANSWERED' to each instance of a missing observation\n",
    "# We also capitalise data\n",
    "sw_data['Location (Census Region)'] = sw_data['Location (Census Region)'].fillna('UNANSWERED')\n",
    "sw_data['Location (Census Region)'] = sw_data['Location (Census Region)'].str.upper()\n",
    "sw_data['Location (Census Region)'].value_counts()"
   ]
  },
  {
   "cell_type": "code",
   "execution_count": 78,
   "metadata": {},
   "outputs": [],
   "source": [
    "# Task 2: Data Exploration\n",
    "# Task 2.1\n",
    "\n",
    "# Obtaining a subset of overall data only containing movie preference ranking data\n",
    "sw_data_pref_rank = sw_data[['Preference Ranking SWE1', 'Preference Ranking SWE2', 'Preference Ranking SWE3', 'Preference Ranking SWE4', 'Preference Ranking SWE5', 'Preference Ranking SWE6']]"
   ]
  },
  {
   "cell_type": "code",
   "execution_count": 79,
   "metadata": {},
   "outputs": [
    {
     "data": {
      "text/html": [
       "<div>\n",
       "<style scoped>\n",
       "    .dataframe tbody tr th:only-of-type {\n",
       "        vertical-align: middle;\n",
       "    }\n",
       "\n",
       "    .dataframe tbody tr th {\n",
       "        vertical-align: top;\n",
       "    }\n",
       "\n",
       "    .dataframe thead th {\n",
       "        text-align: right;\n",
       "    }\n",
       "</style>\n",
       "<table border=\"1\" class=\"dataframe\">\n",
       "  <thead>\n",
       "    <tr style=\"text-align: right;\">\n",
       "      <th></th>\n",
       "      <th>Preference Ranking SWE1</th>\n",
       "      <th>Preference Ranking SWE2</th>\n",
       "      <th>Preference Ranking SWE3</th>\n",
       "      <th>Preference Ranking SWE4</th>\n",
       "      <th>Preference Ranking SWE5</th>\n",
       "      <th>Preference Ranking SWE6</th>\n",
       "    </tr>\n",
       "  </thead>\n",
       "  <tbody>\n",
       "    <tr>\n",
       "      <td>0</td>\n",
       "      <td>3.0</td>\n",
       "      <td>2.0</td>\n",
       "      <td>1.0</td>\n",
       "      <td>4.0</td>\n",
       "      <td>5.0</td>\n",
       "      <td>6.0</td>\n",
       "    </tr>\n",
       "    <tr>\n",
       "      <td>1</td>\n",
       "      <td>NaN</td>\n",
       "      <td>NaN</td>\n",
       "      <td>NaN</td>\n",
       "      <td>NaN</td>\n",
       "      <td>NaN</td>\n",
       "      <td>NaN</td>\n",
       "    </tr>\n",
       "    <tr>\n",
       "      <td>2</td>\n",
       "      <td>1.0</td>\n",
       "      <td>2.0</td>\n",
       "      <td>3.0</td>\n",
       "      <td>4.0</td>\n",
       "      <td>5.0</td>\n",
       "      <td>6.0</td>\n",
       "    </tr>\n",
       "    <tr>\n",
       "      <td>3</td>\n",
       "      <td>5.0</td>\n",
       "      <td>6.0</td>\n",
       "      <td>1.0</td>\n",
       "      <td>2.0</td>\n",
       "      <td>4.0</td>\n",
       "      <td>3.0</td>\n",
       "    </tr>\n",
       "    <tr>\n",
       "      <td>4</td>\n",
       "      <td>5.0</td>\n",
       "      <td>4.0</td>\n",
       "      <td>6.0</td>\n",
       "      <td>2.0</td>\n",
       "      <td>1.0</td>\n",
       "      <td>3.0</td>\n",
       "    </tr>\n",
       "  </tbody>\n",
       "</table>\n",
       "</div>"
      ],
      "text/plain": [
       "   Preference Ranking SWE1  Preference Ranking SWE2  Preference Ranking SWE3  \\\n",
       "0                      3.0                      2.0                      1.0   \n",
       "1                      NaN                      NaN                      NaN   \n",
       "2                      1.0                      2.0                      3.0   \n",
       "3                      5.0                      6.0                      1.0   \n",
       "4                      5.0                      4.0                      6.0   \n",
       "\n",
       "   Preference Ranking SWE4  Preference Ranking SWE5  Preference Ranking SWE6  \n",
       "0                      4.0                      5.0                      6.0  \n",
       "1                      NaN                      NaN                      NaN  \n",
       "2                      4.0                      5.0                      6.0  \n",
       "3                      2.0                      4.0                      3.0  \n",
       "4                      2.0                      1.0                      3.0  "
      ]
     },
     "execution_count": 79,
     "metadata": {},
     "output_type": "execute_result"
    }
   ],
   "source": [
    "# Viewing first 5 rows of preference ranking data\n",
    "sw_data_pref_rank.head(5)"
   ]
  },
  {
   "cell_type": "code",
   "execution_count": 80,
   "metadata": {},
   "outputs": [],
   "source": [
    "# There are missing values, so we remove them from the data altogether\n",
    "sw_data_pref_rank = sw_data_pref_rank.dropna()"
   ]
  },
  {
   "cell_type": "code",
   "execution_count": 81,
   "metadata": {},
   "outputs": [
    {
     "data": {
      "text/html": [
       "<div>\n",
       "<style scoped>\n",
       "    .dataframe tbody tr th:only-of-type {\n",
       "        vertical-align: middle;\n",
       "    }\n",
       "\n",
       "    .dataframe tbody tr th {\n",
       "        vertical-align: top;\n",
       "    }\n",
       "\n",
       "    .dataframe thead th {\n",
       "        text-align: right;\n",
       "    }\n",
       "</style>\n",
       "<table border=\"1\" class=\"dataframe\">\n",
       "  <thead>\n",
       "    <tr style=\"text-align: right;\">\n",
       "      <th></th>\n",
       "      <th>Preference Ranking SWE1</th>\n",
       "      <th>Preference Ranking SWE2</th>\n",
       "      <th>Preference Ranking SWE3</th>\n",
       "      <th>Preference Ranking SWE4</th>\n",
       "      <th>Preference Ranking SWE5</th>\n",
       "      <th>Preference Ranking SWE6</th>\n",
       "    </tr>\n",
       "  </thead>\n",
       "  <tbody>\n",
       "    <tr>\n",
       "      <td>count</td>\n",
       "      <td>834.000000</td>\n",
       "      <td>834.000000</td>\n",
       "      <td>834.000000</td>\n",
       "      <td>834.000000</td>\n",
       "      <td>834.000000</td>\n",
       "      <td>834.000000</td>\n",
       "    </tr>\n",
       "    <tr>\n",
       "      <td>mean</td>\n",
       "      <td>3.736211</td>\n",
       "      <td>4.091127</td>\n",
       "      <td>4.344125</td>\n",
       "      <td>3.269784</td>\n",
       "      <td>2.511990</td>\n",
       "      <td>3.046763</td>\n",
       "    </tr>\n",
       "    <tr>\n",
       "      <td>std</td>\n",
       "      <td>1.654405</td>\n",
       "      <td>1.364564</td>\n",
       "      <td>1.398952</td>\n",
       "      <td>1.826936</td>\n",
       "      <td>1.577292</td>\n",
       "      <td>1.668570</td>\n",
       "    </tr>\n",
       "    <tr>\n",
       "      <td>min</td>\n",
       "      <td>1.000000</td>\n",
       "      <td>1.000000</td>\n",
       "      <td>1.000000</td>\n",
       "      <td>1.000000</td>\n",
       "      <td>1.000000</td>\n",
       "      <td>1.000000</td>\n",
       "    </tr>\n",
       "    <tr>\n",
       "      <td>25%</td>\n",
       "      <td>3.000000</td>\n",
       "      <td>3.000000</td>\n",
       "      <td>3.000000</td>\n",
       "      <td>2.000000</td>\n",
       "      <td>1.000000</td>\n",
       "      <td>2.000000</td>\n",
       "    </tr>\n",
       "    <tr>\n",
       "      <td>50%</td>\n",
       "      <td>4.000000</td>\n",
       "      <td>4.000000</td>\n",
       "      <td>5.000000</td>\n",
       "      <td>3.000000</td>\n",
       "      <td>2.000000</td>\n",
       "      <td>3.000000</td>\n",
       "    </tr>\n",
       "    <tr>\n",
       "      <td>75%</td>\n",
       "      <td>5.000000</td>\n",
       "      <td>5.000000</td>\n",
       "      <td>6.000000</td>\n",
       "      <td>5.000000</td>\n",
       "      <td>3.000000</td>\n",
       "      <td>4.000000</td>\n",
       "    </tr>\n",
       "    <tr>\n",
       "      <td>max</td>\n",
       "      <td>6.000000</td>\n",
       "      <td>6.000000</td>\n",
       "      <td>6.000000</td>\n",
       "      <td>6.000000</td>\n",
       "      <td>6.000000</td>\n",
       "      <td>6.000000</td>\n",
       "    </tr>\n",
       "  </tbody>\n",
       "</table>\n",
       "</div>"
      ],
      "text/plain": [
       "       Preference Ranking SWE1  Preference Ranking SWE2  \\\n",
       "count               834.000000               834.000000   \n",
       "mean                  3.736211                 4.091127   \n",
       "std                   1.654405                 1.364564   \n",
       "min                   1.000000                 1.000000   \n",
       "25%                   3.000000                 3.000000   \n",
       "50%                   4.000000                 4.000000   \n",
       "75%                   5.000000                 5.000000   \n",
       "max                   6.000000                 6.000000   \n",
       "\n",
       "       Preference Ranking SWE3  Preference Ranking SWE4  \\\n",
       "count               834.000000               834.000000   \n",
       "mean                  4.344125                 3.269784   \n",
       "std                   1.398952                 1.826936   \n",
       "min                   1.000000                 1.000000   \n",
       "25%                   3.000000                 2.000000   \n",
       "50%                   5.000000                 3.000000   \n",
       "75%                   6.000000                 5.000000   \n",
       "max                   6.000000                 6.000000   \n",
       "\n",
       "       Preference Ranking SWE5  Preference Ranking SWE6  \n",
       "count               834.000000               834.000000  \n",
       "mean                  2.511990                 3.046763  \n",
       "std                   1.577292                 1.668570  \n",
       "min                   1.000000                 1.000000  \n",
       "25%                   1.000000                 2.000000  \n",
       "50%                   2.000000                 3.000000  \n",
       "75%                   3.000000                 4.000000  \n",
       "max                   6.000000                 6.000000  "
      ]
     },
     "execution_count": 81,
     "metadata": {},
     "output_type": "execute_result"
    }
   ],
   "source": [
    "# Obtaining descriptive statistics about each column\n",
    "sw_data_pref_rank.describe()"
   ]
  },
  {
   "cell_type": "code",
   "execution_count": 82,
   "metadata": {},
   "outputs": [
    {
     "data": {
      "text/html": [
       "<div>\n",
       "<style scoped>\n",
       "    .dataframe tbody tr th:only-of-type {\n",
       "        vertical-align: middle;\n",
       "    }\n",
       "\n",
       "    .dataframe tbody tr th {\n",
       "        vertical-align: top;\n",
       "    }\n",
       "\n",
       "    .dataframe thead th {\n",
       "        text-align: right;\n",
       "    }\n",
       "</style>\n",
       "<table border=\"1\" class=\"dataframe\">\n",
       "  <thead>\n",
       "    <tr style=\"text-align: right;\">\n",
       "      <th></th>\n",
       "      <th>Movie</th>\n",
       "      <th>1st Rank Count</th>\n",
       "    </tr>\n",
       "  </thead>\n",
       "  <tbody>\n",
       "    <tr>\n",
       "      <td>0</td>\n",
       "      <td>SWE1</td>\n",
       "      <td>128</td>\n",
       "    </tr>\n",
       "    <tr>\n",
       "      <td>1</td>\n",
       "      <td>SWE2</td>\n",
       "      <td>32</td>\n",
       "    </tr>\n",
       "    <tr>\n",
       "      <td>2</td>\n",
       "      <td>SWE3</td>\n",
       "      <td>36</td>\n",
       "    </tr>\n",
       "    <tr>\n",
       "      <td>3</td>\n",
       "      <td>SWE4</td>\n",
       "      <td>204</td>\n",
       "    </tr>\n",
       "    <tr>\n",
       "      <td>4</td>\n",
       "      <td>SWE5</td>\n",
       "      <td>288</td>\n",
       "    </tr>\n",
       "    <tr>\n",
       "      <td>5</td>\n",
       "      <td>SWE6</td>\n",
       "      <td>146</td>\n",
       "    </tr>\n",
       "  </tbody>\n",
       "</table>\n",
       "</div>"
      ],
      "text/plain": [
       "  Movie  1st Rank Count\n",
       "0  SWE1             128\n",
       "1  SWE2              32\n",
       "2  SWE3              36\n",
       "3  SWE4             204\n",
       "4  SWE5             288\n",
       "5  SWE6             146"
      ]
     },
     "execution_count": 82,
     "metadata": {},
     "output_type": "execute_result"
    }
   ],
   "source": [
    "# Creating a dataset containing the total number of the first (best) preference ranking for each Star Wars movie\n",
    "first_rank_data = {'Movie':['SWE1', 'SWE2', 'SWE3', 'SWE4', 'SWE5', 'SWE6'], \n",
    "        '1st Rank Count':[sw_data_pref_rank[sw_data_pref_rank['Preference Ranking SWE1'] == 1.0]['Preference Ranking SWE1'].count(), sw_data_pref_rank[sw_data_pref_rank['Preference Ranking SWE2'] == 1.0]['Preference Ranking SWE2'].count(), sw_data_pref_rank[sw_data_pref_rank['Preference Ranking SWE3'] == 1.0]['Preference Ranking SWE3'].count(), sw_data_pref_rank[sw_data_pref_rank['Preference Ranking SWE4'] == 1.0]['Preference Ranking SWE4'].count(), sw_data_pref_rank[sw_data_pref_rank['Preference Ranking SWE5'] == 1.0]['Preference Ranking SWE5'].count(), sw_data_pref_rank[sw_data_pref_rank['Preference Ranking SWE6'] == 1.0]['Preference Ranking SWE6'].count()]}\n",
    "frd = pd.DataFrame(first_rank_data)\n",
    "frd.head(6)"
   ]
  },
  {
   "cell_type": "code",
   "execution_count": 83,
   "metadata": {},
   "outputs": [
    {
     "data": {
      "text/plain": [
       "SWE5    288\n",
       "SWE4    204\n",
       "SWE6    146\n",
       "SWE1    128\n",
       "SWE3     36\n",
       "SWE2     32\n",
       "Name: Movie in 1st Rank, dtype: int64"
      ]
     },
     "execution_count": 83,
     "metadata": {},
     "output_type": "execute_result"
    }
   ],
   "source": [
    "# Creating a new dataset with one column for the purpose of getting overall information about the number of first \n",
    "# ranking preference allocations for each movie\n",
    "dfp = pd.DataFrame(columns=['Movie in 1st Rank'])\n",
    "for i in range(834):\n",
    "    if (i < 128):\n",
    "        dfp.loc[i] = ['SWE1']\n",
    "    elif (i < 160):\n",
    "        dfp.loc[i] = ['SWE2']\n",
    "    elif (i < 196):\n",
    "        dfp.loc[i] = ['SWE3']\n",
    "    elif (i < 400):\n",
    "        dfp.loc[i] = ['SWE4']\n",
    "    elif (i < 688):\n",
    "        dfp.loc[i] = ['SWE5']\n",
    "    elif (i < 834):\n",
    "        dfp.loc[i] = ['SWE6']\n",
    "dfp['Movie in 1st Rank'].value_counts()"
   ]
  },
  {
   "cell_type": "code",
   "execution_count": 84,
   "metadata": {},
   "outputs": [
    {
     "data": {
      "image/png": "[encoded data removed]",
      "text/plain": [
       "<Figure size 432x288 with 1 Axes>"
      ]
     },
     "metadata": {},
     "output_type": "display_data"
    }
   ],
   "source": [
    "# Creating a pie chart to display fans' favourite star wars movies, based on their favourite preference allocations\n",
    "# for each movie\n",
    "import matplotlib.pyplot as plt\n",
    "%matplotlib inline\n",
    "dfp['Movie in 1st Rank'].value_counts().plot(kind='pie', autopct='%.1f')\n",
    "plt.title('Figure 1: Pie Chart of Favourite Star Wars Movies')\n",
    "plt.ylabel('')\n",
    "plt.show()"
   ]
  },
  {
   "cell_type": "code",
   "execution_count": 85,
   "metadata": {},
   "outputs": [
    {
     "data": {
      "image/png": "[encoded data removed]",
      "text/plain": [
       "<Figure size 432x288 with 1 Axes>"
      ]
     },
     "metadata": {},
     "output_type": "display_data"
    },
    {
     "data": {
      "image/png": "[encoded data removed]",
      "text/plain": [
       "<Figure size 432x288 with 1 Axes>"
      ]
     },
     "metadata": {},
     "output_type": "display_data"
    },
    {
     "data": {
      "image/png": "[encoded data removed]",
      "text/plain": [
       "<Figure size 432x288 with 1 Axes>"
      ]
     },
     "metadata": {},
     "output_type": "display_data"
    },
    {
     "data": {
      "image/png": "[encoded data removed]",
      "text/plain": [
       "<Figure size 432x288 with 1 Axes>"
      ]
     },
     "metadata": {},
     "output_type": "display_data"
    },
    {
     "data": {
      "image/png": "[encoded data removed]",
      "text/plain": [
       "<Figure size 432x288 with 1 Axes>"
      ]
     },
     "metadata": {},
     "output_type": "display_data"
    },
    {
     "data": {
      "image/png": "[encoded data removed]",
      "text/plain": [
       "<Figure size 432x288 with 1 Axes>"
      ]
     },
     "metadata": {},
     "output_type": "display_data"
    }
   ],
   "source": [
    "# Creating pie charts to visualise proportions of each preference ranking for the each Star Wars movie\n",
    "\n",
    "plt.figure(0)\n",
    "sw_data_pref_rank['Preference Ranking SWE1'].value_counts().plot(kind='pie', autopct='%.1f')\n",
    "plt.title('Figure 2: Pie Chart of Proportions of Ranking Allocations for Star Wars Episode 1')\n",
    "plt.ylabel('')\n",
    "\n",
    "plt.figure(1)\n",
    "sw_data_pref_rank['Preference Ranking SWE2'].value_counts().plot(kind='pie', autopct='%.1f')\n",
    "plt.title('Figure 3: Pie Chart of Proportions of Ranking Allocations for Star Wars Episode 2')\n",
    "plt.ylabel('')\n",
    "\n",
    "plt.figure(2)\n",
    "sw_data_pref_rank['Preference Ranking SWE3'].value_counts().plot(kind='pie', autopct='%.1f')\n",
    "plt.title('Figure 4: Pie Chart of Proportions of Ranking Allocations for Star Wars Episode 3')\n",
    "plt.ylabel('')\n",
    "\n",
    "plt.figure(3)\n",
    "sw_data_pref_rank['Preference Ranking SWE4'].value_counts().plot(kind='pie', autopct='%.1f')\n",
    "plt.title('Figure 5: Pie Chart of Proportions of Ranking Allocations for Star Wars Episode 4')\n",
    "plt.ylabel('')\n",
    "\n",
    "plt.figure(4)\n",
    "sw_data_pref_rank['Preference Ranking SWE5'].value_counts().plot(kind='pie', autopct='%.1f')\n",
    "plt.title('Figure 6: Pie Chart of Proportions of Ranking Allocations for Star Wars Episode 5')\n",
    "plt.ylabel('')\n",
    "\n",
    "plt.figure(5)\n",
    "sw_data_pref_rank['Preference Ranking SWE6'].value_counts().plot(kind='pie', autopct='%.1f')\n",
    "plt.title('Figure 7: Pie Chart of Proportions of Ranking Allocations for Star Wars Episode 6')\n",
    "plt.ylabel('')\n",
    "\n",
    "\n",
    "plt.show()"
   ]
  },
  {
   "cell_type": "code",
   "execution_count": 86,
   "metadata": {},
   "outputs": [],
   "source": [
    "# Task 2.2\n",
    "# Obtaining a subset of dataset that contains information about which franchise fans like\n",
    "sw_franchise_fan_data = sw_data[['Do you consider yourself to be a fan of the Star Wars film franchise?', 'Do you consider yourself to be a fan of the Star Trek franchise?']]"
   ]
  },
  {
   "cell_type": "code",
   "execution_count": 87,
   "metadata": {},
   "outputs": [
    {
     "data": {
      "text/plain": [
       "YES           552\n",
       "UNANSWERED    350\n",
       "NO            284\n",
       "Name: Do you consider yourself to be a fan of the Star Wars film franchise?, dtype: int64"
      ]
     },
     "execution_count": 87,
     "metadata": {},
     "output_type": "execute_result"
    }
   ],
   "source": [
    "# Viewing values of first column\n",
    "sw_franchise_fan_data['Do you consider yourself to be a fan of the Star Wars film franchise?'].value_counts()"
   ]
  },
  {
   "cell_type": "code",
   "execution_count": 88,
   "metadata": {},
   "outputs": [
    {
     "data": {
      "text/plain": [
       "NO            641\n",
       "YES           427\n",
       "UNANSWERED    118\n",
       "Name: Do you consider yourself to be a fan of the Star Trek franchise?, dtype: int64"
      ]
     },
     "execution_count": 88,
     "metadata": {},
     "output_type": "execute_result"
    }
   ],
   "source": [
    "# Viewing values of second column\n",
    "sw_franchise_fan_data['Do you consider yourself to be a fan of the Star Trek franchise?'].value_counts()"
   ]
  },
  {
   "cell_type": "code",
   "execution_count": 89,
   "metadata": {},
   "outputs": [
    {
     "data": {
      "text/html": [
       "<div>\n",
       "<style scoped>\n",
       "    .dataframe tbody tr th:only-of-type {\n",
       "        vertical-align: middle;\n",
       "    }\n",
       "\n",
       "    .dataframe tbody tr th {\n",
       "        vertical-align: top;\n",
       "    }\n",
       "\n",
       "    .dataframe thead th {\n",
       "        text-align: right;\n",
       "    }\n",
       "</style>\n",
       "<table border=\"1\" class=\"dataframe\">\n",
       "  <thead>\n",
       "    <tr style=\"text-align: right;\">\n",
       "      <th></th>\n",
       "      <th>Do you consider yourself to be a fan of the Star Wars film franchise?</th>\n",
       "      <th>Do you consider yourself to be a fan of the Star Trek franchise?</th>\n",
       "    </tr>\n",
       "  </thead>\n",
       "  <tbody>\n",
       "    <tr>\n",
       "      <td>0</td>\n",
       "      <td>YES</td>\n",
       "      <td>NO</td>\n",
       "    </tr>\n",
       "    <tr>\n",
       "      <td>1</td>\n",
       "      <td>UNANSWERED</td>\n",
       "      <td>YES</td>\n",
       "    </tr>\n",
       "    <tr>\n",
       "      <td>2</td>\n",
       "      <td>NO</td>\n",
       "      <td>NO</td>\n",
       "    </tr>\n",
       "    <tr>\n",
       "      <td>3</td>\n",
       "      <td>YES</td>\n",
       "      <td>YES</td>\n",
       "    </tr>\n",
       "    <tr>\n",
       "      <td>4</td>\n",
       "      <td>YES</td>\n",
       "      <td>NO</td>\n",
       "    </tr>\n",
       "  </tbody>\n",
       "</table>\n",
       "</div>"
      ],
      "text/plain": [
       "  Do you consider yourself to be a fan of the Star Wars film franchise?  \\\n",
       "0                                                YES                      \n",
       "1                                         UNANSWERED                      \n",
       "2                                                 NO                      \n",
       "3                                                YES                      \n",
       "4                                                YES                      \n",
       "\n",
       "  Do you consider yourself to be a fan of the Star Trek franchise?  \n",
       "0                                                 NO                \n",
       "1                                                YES                \n",
       "2                                                 NO                \n",
       "3                                                YES                \n",
       "4                                                 NO                "
      ]
     },
     "execution_count": 89,
     "metadata": {},
     "output_type": "execute_result"
    }
   ],
   "source": [
    "# Viewing first five rows of subset\n",
    "sw_franchise_fan_data.head()"
   ]
  },
  {
   "cell_type": "code",
   "execution_count": 90,
   "metadata": {},
   "outputs": [
    {
     "data": {
      "text/html": [
       "<div>\n",
       "<style scoped>\n",
       "    .dataframe tbody tr th:only-of-type {\n",
       "        vertical-align: middle;\n",
       "    }\n",
       "\n",
       "    .dataframe tbody tr th {\n",
       "        vertical-align: top;\n",
       "    }\n",
       "\n",
       "    .dataframe thead th {\n",
       "        text-align: right;\n",
       "    }\n",
       "</style>\n",
       "<table border=\"1\" class=\"dataframe\">\n",
       "  <thead>\n",
       "    <tr style=\"text-align: right;\">\n",
       "      <th></th>\n",
       "      <th>FranchiseFan</th>\n",
       "      <th>Count</th>\n",
       "    </tr>\n",
       "  </thead>\n",
       "  <tbody>\n",
       "    <tr>\n",
       "      <td>0</td>\n",
       "      <td>FANOFSW</td>\n",
       "      <td>552</td>\n",
       "    </tr>\n",
       "    <tr>\n",
       "      <td>1</td>\n",
       "      <td>FANOFST</td>\n",
       "      <td>427</td>\n",
       "    </tr>\n",
       "    <tr>\n",
       "      <td>2</td>\n",
       "      <td>UNANSWERED</td>\n",
       "      <td>468</td>\n",
       "    </tr>\n",
       "  </tbody>\n",
       "</table>\n",
       "</div>"
      ],
      "text/plain": [
       "  FranchiseFan  Count\n",
       "0      FANOFSW    552\n",
       "1      FANOFST    427\n",
       "2   UNANSWERED    468"
      ]
     },
     "execution_count": 90,
     "metadata": {},
     "output_type": "execute_result"
    }
   ],
   "source": [
    "# Creating a dataset containing how many respondents said that they were a fan of the franchise in question\n",
    "movie_fan_data = {'FranchiseFan':['FANOFSW', 'FANOFST', 'UNANSWERED'], \n",
    "        'Count':[sw_franchise_fan_data[sw_franchise_fan_data['Do you consider yourself to be a fan of the Star Wars film franchise?'] == 'YES']['Do you consider yourself to be a fan of the Star Wars film franchise?'].count(), sw_franchise_fan_data[sw_franchise_fan_data['Do you consider yourself to be a fan of the Star Trek franchise?'] == 'YES']['Do you consider yourself to be a fan of the Star Trek franchise?'].count(), 468]}\n",
    "mfd = pd.DataFrame(movie_fan_data)\n",
    "mfd.head(6)"
   ]
  },
  {
   "cell_type": "code",
   "execution_count": 91,
   "metadata": {},
   "outputs": [
    {
     "data": {
      "text/plain": [
       "STAR WARS     552\n",
       "UNANSWERED    468\n",
       "STAR TREK     427\n",
       "Name: Movie Fan, dtype: int64"
      ]
     },
     "execution_count": 91,
     "metadata": {},
     "output_type": "execute_result"
    }
   ],
   "source": [
    "# Creating a new dataset with one column for the purpose of getting overall information about the number of \n",
    "# franchise fans for each franchise in question\n",
    "dps = pd.DataFrame(columns=['Movie Fan'])\n",
    "for i in range(1447):\n",
    "    if (i < 552):\n",
    "        dps.loc[i] = ['STAR WARS']\n",
    "    elif (i < 979):\n",
    "        dps.loc[i] = ['STAR TREK']\n",
    "    elif (i < 1447):\n",
    "        dps.loc[i] = ['UNANSWERED']\n",
    "        \n",
    "dps['Movie Fan'].value_counts()"
   ]
  },
  {
   "cell_type": "code",
   "execution_count": 92,
   "metadata": {},
   "outputs": [
    {
     "data": {
      "image/png": "[encoded data removed]",
      "text/plain": [
       "<Figure size 432x288 with 1 Axes>"
      ]
     },
     "metadata": {
      "needs_background": "light"
     },
     "output_type": "display_data"
    }
   ],
   "source": [
    "# Creating a bar chart to display fans' favourite franchise\n",
    "dps['Movie Fan'].value_counts().plot(kind='bar')\n",
    "plt.title('Figure 8: Bar Chart of Favourite Franchise')\n",
    "plt.ylabel('')\n",
    "plt.show()"
   ]
  },
  {
   "cell_type": "code",
   "execution_count": 93,
   "metadata": {},
   "outputs": [],
   "source": [
    "# Obtaining a subset of dataset that contains information about gender and whether the respondee is a fan of the \n",
    "# expanded universe\n",
    "sw_geneu_data = sw_data[['Gender', 'Do you consider yourself to be a fan of the Expanded Universe?']]"
   ]
  },
  {
   "cell_type": "code",
   "execution_count": 94,
   "metadata": {},
   "outputs": [
    {
     "data": {
      "text/html": [
       "<div>\n",
       "<style scoped>\n",
       "    .dataframe tbody tr th:only-of-type {\n",
       "        vertical-align: middle;\n",
       "    }\n",
       "\n",
       "    .dataframe tbody tr th {\n",
       "        vertical-align: top;\n",
       "    }\n",
       "\n",
       "    .dataframe thead th {\n",
       "        text-align: right;\n",
       "    }\n",
       "</style>\n",
       "<table border=\"1\" class=\"dataframe\">\n",
       "  <thead>\n",
       "    <tr style=\"text-align: right;\">\n",
       "      <th></th>\n",
       "      <th>Gender</th>\n",
       "      <th>Do you consider yourself to be a fan of the Expanded Universe?</th>\n",
       "    </tr>\n",
       "  </thead>\n",
       "  <tbody>\n",
       "    <tr>\n",
       "      <td>0</td>\n",
       "      <td>MALE</td>\n",
       "      <td>NO</td>\n",
       "    </tr>\n",
       "    <tr>\n",
       "      <td>1</td>\n",
       "      <td>MALE</td>\n",
       "      <td>UNANSWERED</td>\n",
       "    </tr>\n",
       "    <tr>\n",
       "      <td>2</td>\n",
       "      <td>MALE</td>\n",
       "      <td>UNANSWERED</td>\n",
       "    </tr>\n",
       "    <tr>\n",
       "      <td>3</td>\n",
       "      <td>MALE</td>\n",
       "      <td>UNANSWERED</td>\n",
       "    </tr>\n",
       "    <tr>\n",
       "      <td>4</td>\n",
       "      <td>MALE</td>\n",
       "      <td>NO</td>\n",
       "    </tr>\n",
       "  </tbody>\n",
       "</table>\n",
       "</div>"
      ],
      "text/plain": [
       "  Gender Do you consider yourself to be a fan of the Expanded Universe?\n",
       "0   MALE                                                 NO            \n",
       "1   MALE                                         UNANSWERED            \n",
       "2   MALE                                         UNANSWERED            \n",
       "3   MALE                                         UNANSWERED            \n",
       "4   MALE                                                 NO            "
      ]
     },
     "execution_count": 94,
     "metadata": {},
     "output_type": "execute_result"
    }
   ],
   "source": [
    "# Viewing first 5 rows of subset data\n",
    "sw_geneu_data.head()"
   ]
  },
  {
   "cell_type": "code",
   "execution_count": 95,
   "metadata": {},
   "outputs": [
    {
     "data": {
      "text/plain": [
       "FEMALE        549\n",
       "MALE          497\n",
       "UNANSWERED    140\n",
       "Name: Gender, dtype: int64"
      ]
     },
     "execution_count": 95,
     "metadata": {},
     "output_type": "execute_result"
    }
   ],
   "source": [
    "# Viewing values of first column\n",
    "sw_geneu_data['Gender'].value_counts()"
   ]
  },
  {
   "cell_type": "code",
   "execution_count": 96,
   "metadata": {},
   "outputs": [
    {
     "data": {
      "text/plain": [
       "UNANSWERED    973\n",
       "NO            114\n",
       "YES            99\n",
       "Name: Do you consider yourself to be a fan of the Expanded Universe?, dtype: int64"
      ]
     },
     "execution_count": 96,
     "metadata": {},
     "output_type": "execute_result"
    }
   ],
   "source": [
    "# Viewing values of second column\n",
    "sw_geneu_data['Do you consider yourself to be a fan of the Expanded Universe?'].value_counts()"
   ]
  },
  {
   "cell_type": "code",
   "execution_count": 97,
   "metadata": {},
   "outputs": [
    {
     "data": {
      "text/plain": [
       "NO            615\n",
       "UNANSWERED    358\n",
       "YES           213\n",
       "Name: Are you familiar with the Expanded Universe?, dtype: int64"
      ]
     },
     "execution_count": 97,
     "metadata": {},
     "output_type": "execute_result"
    }
   ],
   "source": [
    "# There was a large number of 'UNANSWERED' observations for the fans of the expanded universe feature, so we look \n",
    "# at the value quantities of each observation in the familiarity with the expanded universe feature, to find an\n",
    "# explanation\n",
    "sw_data['Are you familiar with the Expanded Universe?'].value_counts()"
   ]
  },
  {
   "cell_type": "code",
   "execution_count": 98,
   "metadata": {},
   "outputs": [],
   "source": [
    "# Obtaining a subset of the subset where the responsents are fans of the expanded universe\n",
    "sw_geneu_data_yesfan = sw_geneu_data[sw_geneu_data['Do you consider yourself to be a fan of the Expanded Universe?'] == 'YES']"
   ]
  },
  {
   "cell_type": "code",
   "execution_count": 99,
   "metadata": {},
   "outputs": [
    {
     "data": {
      "text/html": [
       "<div>\n",
       "<style scoped>\n",
       "    .dataframe tbody tr th:only-of-type {\n",
       "        vertical-align: middle;\n",
       "    }\n",
       "\n",
       "    .dataframe tbody tr th {\n",
       "        vertical-align: top;\n",
       "    }\n",
       "\n",
       "    .dataframe thead th {\n",
       "        text-align: right;\n",
       "    }\n",
       "</style>\n",
       "<table border=\"1\" class=\"dataframe\">\n",
       "  <thead>\n",
       "    <tr style=\"text-align: right;\">\n",
       "      <th></th>\n",
       "      <th>Gender</th>\n",
       "      <th>Do you consider yourself to be a fan of the Expanded Universe?</th>\n",
       "    </tr>\n",
       "  </thead>\n",
       "  <tbody>\n",
       "    <tr>\n",
       "      <td>15</td>\n",
       "      <td>MALE</td>\n",
       "      <td>YES</td>\n",
       "    </tr>\n",
       "    <tr>\n",
       "      <td>16</td>\n",
       "      <td>MALE</td>\n",
       "      <td>YES</td>\n",
       "    </tr>\n",
       "    <tr>\n",
       "      <td>22</td>\n",
       "      <td>MALE</td>\n",
       "      <td>YES</td>\n",
       "    </tr>\n",
       "    <tr>\n",
       "      <td>29</td>\n",
       "      <td>MALE</td>\n",
       "      <td>YES</td>\n",
       "    </tr>\n",
       "    <tr>\n",
       "      <td>31</td>\n",
       "      <td>MALE</td>\n",
       "      <td>YES</td>\n",
       "    </tr>\n",
       "  </tbody>\n",
       "</table>\n",
       "</div>"
      ],
      "text/plain": [
       "   Gender Do you consider yourself to be a fan of the Expanded Universe?\n",
       "15   MALE                                                YES            \n",
       "16   MALE                                                YES            \n",
       "22   MALE                                                YES            \n",
       "29   MALE                                                YES            \n",
       "31   MALE                                                YES            "
      ]
     },
     "execution_count": 99,
     "metadata": {},
     "output_type": "execute_result"
    }
   ],
   "source": [
    "# Viewing first five rows of subset data\n",
    "sw_geneu_data_yesfan.head()"
   ]
  },
  {
   "cell_type": "code",
   "execution_count": 100,
   "metadata": {},
   "outputs": [
    {
     "data": {
      "text/plain": [
       "MALE          67\n",
       "FEMALE        31\n",
       "UNANSWERED     1\n",
       "Name: Gender, dtype: int64"
      ]
     },
     "execution_count": 100,
     "metadata": {},
     "output_type": "execute_result"
    }
   ],
   "source": [
    "# Viewing values of first column \n",
    "sw_geneu_data_yesfan['Gender'].value_counts()"
   ]
  },
  {
   "cell_type": "code",
   "execution_count": 101,
   "metadata": {},
   "outputs": [
    {
     "data": {
      "text/html": [
       "<div>\n",
       "<style scoped>\n",
       "    .dataframe tbody tr th:only-of-type {\n",
       "        vertical-align: middle;\n",
       "    }\n",
       "\n",
       "    .dataframe tbody tr th {\n",
       "        vertical-align: top;\n",
       "    }\n",
       "\n",
       "    .dataframe thead th {\n",
       "        text-align: right;\n",
       "    }\n",
       "</style>\n",
       "<table border=\"1\" class=\"dataframe\">\n",
       "  <thead>\n",
       "    <tr style=\"text-align: right;\">\n",
       "      <th></th>\n",
       "      <th>Gender of Fans of Expanded Universe</th>\n",
       "      <th>Count</th>\n",
       "    </tr>\n",
       "  </thead>\n",
       "  <tbody>\n",
       "    <tr>\n",
       "      <td>0</td>\n",
       "      <td>MALE</td>\n",
       "      <td>67</td>\n",
       "    </tr>\n",
       "    <tr>\n",
       "      <td>1</td>\n",
       "      <td>FEMALE</td>\n",
       "      <td>31</td>\n",
       "    </tr>\n",
       "    <tr>\n",
       "      <td>2</td>\n",
       "      <td>UNANSWERED</td>\n",
       "      <td>1</td>\n",
       "    </tr>\n",
       "  </tbody>\n",
       "</table>\n",
       "</div>"
      ],
      "text/plain": [
       "  Gender of Fans of Expanded Universe  Count\n",
       "0                                MALE     67\n",
       "1                              FEMALE     31\n",
       "2                          UNANSWERED      1"
      ]
     },
     "execution_count": 101,
     "metadata": {},
     "output_type": "execute_result"
    }
   ],
   "source": [
    "# Creating a dataset containing the gender counts of the respondents who said that they were a fan of the expanded \n",
    "# universe\n",
    "data = {'Gender of Fans of Expanded Universe':['MALE', 'FEMALE', 'UNANSWERED'], \n",
    "        'Count':[67, 31, 1]}\n",
    "df = pd.DataFrame(data)\n",
    "df.head(6)"
   ]
  },
  {
   "cell_type": "code",
   "execution_count": 102,
   "metadata": {},
   "outputs": [
    {
     "data": {
      "text/plain": [
       "MALE          67\n",
       "FEMALE        31\n",
       "UNANSWERED     1\n",
       "Name: Gender of Fans, dtype: int64"
      ]
     },
     "execution_count": 102,
     "metadata": {},
     "output_type": "execute_result"
    }
   ],
   "source": [
    "# Creating a new dataset with one column for the purpose of getting overall information about the numbers of \n",
    "# each gender of fans for the expanded universe\n",
    "dps = pd.DataFrame(columns=['Gender of Fans'])\n",
    "for i in range(99):\n",
    "    if (i < 67):\n",
    "        dps.loc[i] = ['MALE']\n",
    "    elif (i < 98):\n",
    "        dps.loc[i] = ['FEMALE']\n",
    "    elif (i < 100):\n",
    "        dps.loc[i] = ['UNANSWERED']\n",
    "        \n",
    "dps['Gender of Fans'].value_counts()"
   ]
  },
  {
   "cell_type": "code",
   "execution_count": 103,
   "metadata": {},
   "outputs": [
    {
     "data": {
      "image/png": "[encoded data removed]",
      "text/plain": [
       "<Figure size 432x288 with 1 Axes>"
      ]
     },
     "metadata": {
      "needs_background": "light"
     },
     "output_type": "display_data"
    }
   ],
   "source": [
    "# Creating a bar chart to display the number of each expanded universe fans' gender\n",
    "dps['Gender of Fans'].value_counts().plot(kind='bar')\n",
    "plt.title('Figure 9: Bar Chart of Gender of Fans of the Expanded Universe')\n",
    "plt.ylabel('')\n",
    "plt.show()"
   ]
  },
  {
   "cell_type": "code",
   "execution_count": 104,
   "metadata": {},
   "outputs": [],
   "source": [
    "# Obtaining a subset of dataset that contains information about fans' views towards Darth Vader and Obi Wan Kenobi\n",
    "sw_char_data = sw_data[['Obi Wan Kenobi View', 'Darth Vader View']]"
   ]
  },
  {
   "cell_type": "code",
   "execution_count": 105,
   "metadata": {},
   "outputs": [
    {
     "data": {
      "text/html": [
       "<div>\n",
       "<style scoped>\n",
       "    .dataframe tbody tr th:only-of-type {\n",
       "        vertical-align: middle;\n",
       "    }\n",
       "\n",
       "    .dataframe tbody tr th {\n",
       "        vertical-align: top;\n",
       "    }\n",
       "\n",
       "    .dataframe thead th {\n",
       "        text-align: right;\n",
       "    }\n",
       "</style>\n",
       "<table border=\"1\" class=\"dataframe\">\n",
       "  <thead>\n",
       "    <tr style=\"text-align: right;\">\n",
       "      <th></th>\n",
       "      <th>Obi Wan Kenobi View</th>\n",
       "      <th>Darth Vader View</th>\n",
       "    </tr>\n",
       "  </thead>\n",
       "  <tbody>\n",
       "    <tr>\n",
       "      <td>0</td>\n",
       "      <td>VERY FAVORABLY</td>\n",
       "      <td>VERY FAVORABLY</td>\n",
       "    </tr>\n",
       "    <tr>\n",
       "      <td>1</td>\n",
       "      <td>UNANSWERED</td>\n",
       "      <td>UNANSWERED</td>\n",
       "    </tr>\n",
       "    <tr>\n",
       "      <td>2</td>\n",
       "      <td>SOMEWHAT FAVORABLY</td>\n",
       "      <td>UNFAMILIAR (N/A)</td>\n",
       "    </tr>\n",
       "    <tr>\n",
       "      <td>3</td>\n",
       "      <td>VERY FAVORABLY</td>\n",
       "      <td>VERY FAVORABLY</td>\n",
       "    </tr>\n",
       "    <tr>\n",
       "      <td>4</td>\n",
       "      <td>VERY FAVORABLY</td>\n",
       "      <td>SOMEWHAT FAVORABLY</td>\n",
       "    </tr>\n",
       "  </tbody>\n",
       "</table>\n",
       "</div>"
      ],
      "text/plain": [
       "  Obi Wan Kenobi View    Darth Vader View\n",
       "0      VERY FAVORABLY      VERY FAVORABLY\n",
       "1          UNANSWERED          UNANSWERED\n",
       "2  SOMEWHAT FAVORABLY    UNFAMILIAR (N/A)\n",
       "3      VERY FAVORABLY      VERY FAVORABLY\n",
       "4      VERY FAVORABLY  SOMEWHAT FAVORABLY"
      ]
     },
     "execution_count": 105,
     "metadata": {},
     "output_type": "execute_result"
    }
   ],
   "source": [
    "# Viewing first 5 rows of subset \n",
    "sw_char_data.head()"
   ]
  },
  {
   "cell_type": "code",
   "execution_count": 106,
   "metadata": {},
   "outputs": [
    {
     "data": {
      "text/plain": [
       "VERY FAVORABLY                                 591\n",
       "UNANSWERED                                     361\n",
       "SOMEWHAT FAVORABLY                             159\n",
       "NEITHER FAVORABLY NOR UNFAVORABLY (NEUTRAL)     43\n",
       "UNFAMILIAR (N/A)                                17\n",
       "SOMEWHAT UNFAVORABLY                             8\n",
       "VERY UNFAVORABLY                                 7\n",
       "Name: Obi Wan Kenobi View, dtype: int64"
      ]
     },
     "execution_count": 106,
     "metadata": {},
     "output_type": "execute_result"
    }
   ],
   "source": [
    "# Viewing values of first column\n",
    "sw_char_data['Obi Wan Kenobi View'].value_counts()"
   ]
  },
  {
   "cell_type": "code",
   "execution_count": 107,
   "metadata": {},
   "outputs": [
    {
     "data": {
      "text/plain": [
       "UNANSWERED                                     360\n",
       "VERY FAVORABLY                                 310\n",
       "SOMEWHAT FAVORABLY                             171\n",
       "VERY UNFAVORABLY                               149\n",
       "SOMEWHAT UNFAVORABLY                           102\n",
       "NEITHER FAVORABLY NOR UNFAVORABLY (NEUTRAL)     84\n",
       "UNFAMILIAR (N/A)                                10\n",
       "Name: Darth Vader View, dtype: int64"
      ]
     },
     "execution_count": 107,
     "metadata": {},
     "output_type": "execute_result"
    }
   ],
   "source": [
    "# Viewing values of second column\n",
    "sw_char_data['Darth Vader View'].value_counts()"
   ]
  },
  {
   "cell_type": "code",
   "execution_count": 108,
   "metadata": {},
   "outputs": [
    {
     "data": {
      "text/html": [
       "<div>\n",
       "<style scoped>\n",
       "    .dataframe tbody tr th:only-of-type {\n",
       "        vertical-align: middle;\n",
       "    }\n",
       "\n",
       "    .dataframe tbody tr th {\n",
       "        vertical-align: top;\n",
       "    }\n",
       "\n",
       "    .dataframe thead th {\n",
       "        text-align: right;\n",
       "    }\n",
       "</style>\n",
       "<table border=\"1\" class=\"dataframe\">\n",
       "  <thead>\n",
       "    <tr style=\"text-align: right;\">\n",
       "      <th></th>\n",
       "      <th>Fans' view of Obi Wan Kenobi and Darth Vader</th>\n",
       "      <th>Count</th>\n",
       "    </tr>\n",
       "  </thead>\n",
       "  <tbody>\n",
       "    <tr>\n",
       "      <td>0</td>\n",
       "      <td>OBIWANFAN</td>\n",
       "      <td>750</td>\n",
       "    </tr>\n",
       "    <tr>\n",
       "      <td>1</td>\n",
       "      <td>DARTHVADERFAN</td>\n",
       "      <td>481</td>\n",
       "    </tr>\n",
       "    <tr>\n",
       "      <td>2</td>\n",
       "      <td>UNANSWERED</td>\n",
       "      <td>721</td>\n",
       "    </tr>\n",
       "  </tbody>\n",
       "</table>\n",
       "</div>"
      ],
      "text/plain": [
       "  Fans' view of Obi Wan Kenobi and Darth Vader  Count\n",
       "0                                    OBIWANFAN    750\n",
       "1                                DARTHVADERFAN    481\n",
       "2                                   UNANSWERED    721"
      ]
     },
     "execution_count": 108,
     "metadata": {},
     "output_type": "execute_result"
    }
   ],
   "source": [
    "# Creating a dataset containing the number of respondents' favorable views of Darth Vader and Obi Wan Kenobi\n",
    "# Only counting quanities of 'VERY FAVORABLY' and 'SOMEWHAT FAVORABLY' and 'UNANSWERED' observations\n",
    "view_data = {\"Fans' view of Obi Wan Kenobi and Darth Vader\":['OBIWANFAN', 'DARTHVADERFAN', 'UNANSWERED'], \n",
    "        'Count':[750, 481, 721]}\n",
    "vd = pd.DataFrame(view_data)\n",
    "vd.head(6)"
   ]
  },
  {
   "cell_type": "code",
   "execution_count": 109,
   "metadata": {},
   "outputs": [
    {
     "data": {
      "text/plain": [
       "OBIWANKENOBI    750\n",
       "UNANSWERED      721\n",
       "DARTHVADER      481\n",
       "Name: View of Fans, dtype: int64"
      ]
     },
     "execution_count": 109,
     "metadata": {},
     "output_type": "execute_result"
    }
   ],
   "source": [
    "# Creating a new dataset with one column for the purpose of getting information about the number of fans of each\n",
    "# character in question\n",
    "dps = pd.DataFrame(columns=['View of Fans'])\n",
    "for i in range(1952):\n",
    "    if (i < 750):\n",
    "        dps.loc[i] = ['OBIWANKENOBI']\n",
    "    elif (i < 1231):\n",
    "        dps.loc[i] = ['DARTHVADER']\n",
    "    elif (i < 1952):\n",
    "        dps.loc[i] = ['UNANSWERED']\n",
    "        \n",
    "dps['View of Fans'].value_counts()"
   ]
  },
  {
   "cell_type": "code",
   "execution_count": 110,
   "metadata": {},
   "outputs": [
    {
     "data": {
      "image/png": "[encoded data removed]",
      "text/plain": [
       "<Figure size 432x288 with 1 Axes>"
      ]
     },
     "metadata": {
      "needs_background": "light"
     },
     "output_type": "display_data"
    }
   ],
   "source": [
    "dps['View of Fans'].value_counts().plot(kind='bar')\n",
    "plt.title('Figure 10: Bar Chart of View of fan favourites - Darth Vader vs Obi Wan Kenobi')\n",
    "plt.ylabel('')\n",
    "\n",
    "\n",
    "plt.show()"
   ]
  },
  {
   "cell_type": "code",
   "execution_count": 111,
   "metadata": {},
   "outputs": [
    {
     "data": {
      "text/html": [
       "<div>\n",
       "<style scoped>\n",
       "    .dataframe tbody tr th:only-of-type {\n",
       "        vertical-align: middle;\n",
       "    }\n",
       "\n",
       "    .dataframe tbody tr th {\n",
       "        vertical-align: top;\n",
       "    }\n",
       "\n",
       "    .dataframe thead th {\n",
       "        text-align: right;\n",
       "    }\n",
       "</style>\n",
       "<table border=\"1\" class=\"dataframe\">\n",
       "  <thead>\n",
       "    <tr style=\"text-align: right;\">\n",
       "      <th></th>\n",
       "      <th>Han Solo View</th>\n",
       "      <th>Luke Sywalker View</th>\n",
       "      <th>Princess Leia Organa View</th>\n",
       "      <th>Anakin Skywalker View</th>\n",
       "      <th>Obi Wan Kenobi View</th>\n",
       "      <th>Emperor Palpatine View</th>\n",
       "      <th>Darth Vader View</th>\n",
       "      <th>Lando Calrissian View</th>\n",
       "      <th>Boba Fett View</th>\n",
       "      <th>C-3P0 View</th>\n",
       "      <th>R2 D2 View</th>\n",
       "      <th>Jar Jar Binks View</th>\n",
       "      <th>Padme Amidala View</th>\n",
       "      <th>Yoda View</th>\n",
       "      <th>Gender</th>\n",
       "      <th>Age</th>\n",
       "      <th>Household Income</th>\n",
       "      <th>Education</th>\n",
       "      <th>Location (Census Region)</th>\n",
       "    </tr>\n",
       "  </thead>\n",
       "  <tbody>\n",
       "    <tr>\n",
       "      <td>0</td>\n",
       "      <td>VERY FAVORABLY</td>\n",
       "      <td>VERY FAVORABLY</td>\n",
       "      <td>VERY FAVORABLY</td>\n",
       "      <td>VERY FAVORABLY</td>\n",
       "      <td>VERY FAVORABLY</td>\n",
       "      <td>VERY FAVORABLY</td>\n",
       "      <td>VERY FAVORABLY</td>\n",
       "      <td>UNFAMILIAR (N/A)</td>\n",
       "      <td>UNFAMILIAR (N/A)</td>\n",
       "      <td>VERY FAVORABLY</td>\n",
       "      <td>VERY FAVORABLY</td>\n",
       "      <td>VERY FAVORABLY</td>\n",
       "      <td>VERY FAVORABLY</td>\n",
       "      <td>VERY FAVORABLY</td>\n",
       "      <td>MALE</td>\n",
       "      <td>18-29</td>\n",
       "      <td>UNANSWERED</td>\n",
       "      <td>HIGH SCHOOL DEGREE</td>\n",
       "      <td>SOUTH ATLANTIC</td>\n",
       "    </tr>\n",
       "    <tr>\n",
       "      <td>1</td>\n",
       "      <td>UNANSWERED</td>\n",
       "      <td>UNANSWERED</td>\n",
       "      <td>UNANSWERED</td>\n",
       "      <td>UNANSWERED</td>\n",
       "      <td>UNANSWERED</td>\n",
       "      <td>UNANSWERED</td>\n",
       "      <td>UNANSWERED</td>\n",
       "      <td>UNANSWERED</td>\n",
       "      <td>UNANSWERED</td>\n",
       "      <td>UNANSWERED</td>\n",
       "      <td>UNANSWERED</td>\n",
       "      <td>UNANSWERED</td>\n",
       "      <td>UNANSWERED</td>\n",
       "      <td>UNANSWERED</td>\n",
       "      <td>MALE</td>\n",
       "      <td>18-29</td>\n",
       "      <td>$0 - $24,999</td>\n",
       "      <td>BACHELOR DEGREE</td>\n",
       "      <td>WEST SOUTH CENTRAL</td>\n",
       "    </tr>\n",
       "    <tr>\n",
       "      <td>2</td>\n",
       "      <td>SOMEWHAT FAVORABLY</td>\n",
       "      <td>SOMEWHAT FAVORABLY</td>\n",
       "      <td>SOMEWHAT FAVORABLY</td>\n",
       "      <td>SOMEWHAT FAVORABLY</td>\n",
       "      <td>SOMEWHAT FAVORABLY</td>\n",
       "      <td>UNFAMILIAR (N/A)</td>\n",
       "      <td>UNFAMILIAR (N/A)</td>\n",
       "      <td>UNFAMILIAR (N/A)</td>\n",
       "      <td>UNFAMILIAR (N/A)</td>\n",
       "      <td>UNFAMILIAR (N/A)</td>\n",
       "      <td>UNFAMILIAR (N/A)</td>\n",
       "      <td>UNFAMILIAR (N/A)</td>\n",
       "      <td>UNFAMILIAR (N/A)</td>\n",
       "      <td>UNFAMILIAR (N/A)</td>\n",
       "      <td>MALE</td>\n",
       "      <td>18-29</td>\n",
       "      <td>$0 - $24,999</td>\n",
       "      <td>HIGH SCHOOL DEGREE</td>\n",
       "      <td>WEST NORTH CENTRAL</td>\n",
       "    </tr>\n",
       "    <tr>\n",
       "      <td>3</td>\n",
       "      <td>VERY FAVORABLY</td>\n",
       "      <td>VERY FAVORABLY</td>\n",
       "      <td>VERY FAVORABLY</td>\n",
       "      <td>VERY FAVORABLY</td>\n",
       "      <td>VERY FAVORABLY</td>\n",
       "      <td>SOMEWHAT FAVORABLY</td>\n",
       "      <td>VERY FAVORABLY</td>\n",
       "      <td>SOMEWHAT FAVORABLY</td>\n",
       "      <td>SOMEWHAT UNFAVORABLY</td>\n",
       "      <td>VERY FAVORABLY</td>\n",
       "      <td>VERY FAVORABLY</td>\n",
       "      <td>VERY FAVORABLY</td>\n",
       "      <td>VERY FAVORABLY</td>\n",
       "      <td>VERY FAVORABLY</td>\n",
       "      <td>MALE</td>\n",
       "      <td>18-29</td>\n",
       "      <td>$100,000 - $149,999</td>\n",
       "      <td>SOME COLLEGE OR ASSOCIATE DEGREE</td>\n",
       "      <td>WEST NORTH CENTRAL</td>\n",
       "    </tr>\n",
       "    <tr>\n",
       "      <td>4</td>\n",
       "      <td>VERY FAVORABLY</td>\n",
       "      <td>SOMEWHAT FAVORABLY</td>\n",
       "      <td>SOMEWHAT FAVORABLY</td>\n",
       "      <td>SOMEWHAT UNFAVORABLY</td>\n",
       "      <td>VERY FAVORABLY</td>\n",
       "      <td>VERY UNFAVORABLY</td>\n",
       "      <td>SOMEWHAT FAVORABLY</td>\n",
       "      <td>NEITHER FAVORABLY NOR UNFAVORABLY (NEUTRAL)</td>\n",
       "      <td>VERY FAVORABLY</td>\n",
       "      <td>SOMEWHAT FAVORABLY</td>\n",
       "      <td>SOMEWHAT FAVORABLY</td>\n",
       "      <td>VERY UNFAVORABLY</td>\n",
       "      <td>SOMEWHAT FAVORABLY</td>\n",
       "      <td>SOMEWHAT FAVORABLY</td>\n",
       "      <td>MALE</td>\n",
       "      <td>18-29</td>\n",
       "      <td>$100,000 - $149,999</td>\n",
       "      <td>SOME COLLEGE OR ASSOCIATE DEGREE</td>\n",
       "      <td>WEST NORTH CENTRAL</td>\n",
       "    </tr>\n",
       "  </tbody>\n",
       "</table>\n",
       "</div>"
      ],
      "text/plain": [
       "        Han Solo View  Luke Sywalker View Princess Leia Organa View  \\\n",
       "0      VERY FAVORABLY      VERY FAVORABLY            VERY FAVORABLY   \n",
       "1          UNANSWERED          UNANSWERED                UNANSWERED   \n",
       "2  SOMEWHAT FAVORABLY  SOMEWHAT FAVORABLY        SOMEWHAT FAVORABLY   \n",
       "3      VERY FAVORABLY      VERY FAVORABLY            VERY FAVORABLY   \n",
       "4      VERY FAVORABLY  SOMEWHAT FAVORABLY        SOMEWHAT FAVORABLY   \n",
       "\n",
       "  Anakin Skywalker View Obi Wan Kenobi View Emperor Palpatine View  \\\n",
       "0        VERY FAVORABLY      VERY FAVORABLY         VERY FAVORABLY   \n",
       "1            UNANSWERED          UNANSWERED             UNANSWERED   \n",
       "2    SOMEWHAT FAVORABLY  SOMEWHAT FAVORABLY       UNFAMILIAR (N/A)   \n",
       "3        VERY FAVORABLY      VERY FAVORABLY     SOMEWHAT FAVORABLY   \n",
       "4  SOMEWHAT UNFAVORABLY      VERY FAVORABLY       VERY UNFAVORABLY   \n",
       "\n",
       "     Darth Vader View                        Lando Calrissian View  \\\n",
       "0      VERY FAVORABLY                             UNFAMILIAR (N/A)   \n",
       "1          UNANSWERED                                   UNANSWERED   \n",
       "2    UNFAMILIAR (N/A)                             UNFAMILIAR (N/A)   \n",
       "3      VERY FAVORABLY                           SOMEWHAT FAVORABLY   \n",
       "4  SOMEWHAT FAVORABLY  NEITHER FAVORABLY NOR UNFAVORABLY (NEUTRAL)   \n",
       "\n",
       "         Boba Fett View          C-3P0 View          R2 D2 View  \\\n",
       "0      UNFAMILIAR (N/A)      VERY FAVORABLY      VERY FAVORABLY   \n",
       "1            UNANSWERED          UNANSWERED          UNANSWERED   \n",
       "2      UNFAMILIAR (N/A)    UNFAMILIAR (N/A)    UNFAMILIAR (N/A)   \n",
       "3  SOMEWHAT UNFAVORABLY      VERY FAVORABLY      VERY FAVORABLY   \n",
       "4        VERY FAVORABLY  SOMEWHAT FAVORABLY  SOMEWHAT FAVORABLY   \n",
       "\n",
       "  Jar Jar Binks View  Padme Amidala View           Yoda View Gender    Age  \\\n",
       "0     VERY FAVORABLY      VERY FAVORABLY      VERY FAVORABLY   MALE  18-29   \n",
       "1         UNANSWERED          UNANSWERED          UNANSWERED   MALE  18-29   \n",
       "2   UNFAMILIAR (N/A)    UNFAMILIAR (N/A)    UNFAMILIAR (N/A)   MALE  18-29   \n",
       "3     VERY FAVORABLY      VERY FAVORABLY      VERY FAVORABLY   MALE  18-29   \n",
       "4   VERY UNFAVORABLY  SOMEWHAT FAVORABLY  SOMEWHAT FAVORABLY   MALE  18-29   \n",
       "\n",
       "      Household Income                         Education  \\\n",
       "0           UNANSWERED                HIGH SCHOOL DEGREE   \n",
       "1         $0 - $24,999                   BACHELOR DEGREE   \n",
       "2         $0 - $24,999                HIGH SCHOOL DEGREE   \n",
       "3  $100,000 - $149,999  SOME COLLEGE OR ASSOCIATE DEGREE   \n",
       "4  $100,000 - $149,999  SOME COLLEGE OR ASSOCIATE DEGREE   \n",
       "\n",
       "  Location (Census Region)  \n",
       "0           SOUTH ATLANTIC  \n",
       "1       WEST SOUTH CENTRAL  \n",
       "2       WEST NORTH CENTRAL  \n",
       "3       WEST NORTH CENTRAL  \n",
       "4       WEST NORTH CENTRAL  "
      ]
     },
     "execution_count": 111,
     "metadata": {},
     "output_type": "execute_result"
    }
   ],
   "source": [
    "# Task 2.3\n",
    "# Obtaining a subset of data containting only the views towards characters and demographic information\n",
    "sw_dem_view_data = sw_data[['Han Solo View', 'Luke Sywalker View', 'Princess Leia Organa View', \n",
    "                            'Anakin Skywalker View', 'Obi Wan Kenobi View', 'Emperor Palpatine View', \n",
    "                            'Darth Vader View', 'Lando Calrissian View', 'Boba Fett View', 'C-3P0 View', \n",
    "                            'R2 D2 View', 'Jar Jar Binks View', 'Padme Amidala View', 'Yoda View', \n",
    "                            'Gender', 'Age', 'Household Income', 'Education', 'Location (Census Region)']]\n",
    "sw_dem_view_data.head()"
   ]
  },
  {
   "cell_type": "code",
   "execution_count": 112,
   "metadata": {},
   "outputs": [
    {
     "data": {
      "text/plain": [
       "<matplotlib.legend.Legend at 0x11ff30610>"
      ]
     },
     "execution_count": 112,
     "metadata": {},
     "output_type": "execute_result"
    },
    {
     "data": {
      "text/plain": [
       "<Figure size 432x288 with 0 Axes>"
      ]
     },
     "metadata": {},
     "output_type": "display_data"
    },
    {
     "data": {
      "image/png": "[encoded data removed]",
      "text/plain": [
       "<Figure size 432x288 with 1 Axes>"
      ]
     },
     "metadata": {
      "needs_background": "light"
     },
     "output_type": "display_data"
    }
   ],
   "source": [
    "# Creating a bar chart to visualise how the view towards Darth Vader changes according to age \n",
    "%matplotlib inline\n",
    "group = sw_dem_view_data[['Age','Darth Vader View']].groupby(['Age','Darth Vader View'])\n",
    "order = ['18-29','30-44','45-60','> 60']\n",
    "reordered = group.size().reindex(order, level=0)  \n",
    "plt.tight_layout()\n",
    "ax = reordered.unstack().plot(kind='bar') \n",
    "ax.set_title('Figure 11: Bar Chart of Darth Vader View According to Age')\n",
    "ax.legend(loc='center left', bbox_to_anchor=(1, 0.5)) "
   ]
  },
  {
   "cell_type": "code",
   "execution_count": 113,
   "metadata": {},
   "outputs": [
    {
     "data": {
      "text/plain": [
       "<matplotlib.legend.Legend at 0x11f15f910>"
      ]
     },
     "execution_count": 113,
     "metadata": {},
     "output_type": "execute_result"
    },
    {
     "data": {
      "text/plain": [
       "<Figure size 432x288 with 0 Axes>"
      ]
     },
     "metadata": {},
     "output_type": "display_data"
    },
    {
     "data": {
      "image/png": "[encoded data removed]",
      "text/plain": [
       "<Figure size 432x288 with 1 Axes>"
      ]
     },
     "metadata": {
      "needs_background": "light"
     },
     "output_type": "display_data"
    }
   ],
   "source": [
    "# Creating a bar chart to visualise how the view towards Obi Wan Kenobi changes according to age \n",
    "group = sw_dem_view_data[['Age','Obi Wan Kenobi View']].groupby(['Age','Obi Wan Kenobi View'])\n",
    "mrder = ['18-29','30-44','45-60','> 60']\n",
    "reordered = group.size().reindex(order, level=0)  \n",
    "plt.tight_layout()\n",
    "ax = reordered.unstack().plot(kind='bar') \n",
    "ax.set_title('Figure 12: Bar Chart of Obi Wan Kenobi View According to Age')\n",
    "ax.legend(loc='center left', bbox_to_anchor=(1, 0.5))"
   ]
  },
  {
   "cell_type": "code",
   "execution_count": 114,
   "metadata": {
    "scrolled": false
   },
   "outputs": [
    {
     "data": {
      "text/plain": [
       "<matplotlib.legend.Legend at 0x11f15f290>"
      ]
     },
     "execution_count": 114,
     "metadata": {},
     "output_type": "execute_result"
    },
    {
     "data": {
      "text/plain": [
       "<Figure size 432x288 with 0 Axes>"
      ]
     },
     "metadata": {},
     "output_type": "display_data"
    },
    {
     "data": {
      "image/png": "[encoded data removed]",
      "text/plain": [
       "<Figure size 720x360 with 1 Axes>"
      ]
     },
     "metadata": {
      "needs_background": "light"
     },
     "output_type": "display_data"
    }
   ],
   "source": [
    "# Creating a bar chart to visualise how the view towards Han Solo changes according to location\n",
    "group = sw_dem_view_data[['Location (Census Region)','Han Solo View']].groupby(['Location (Census Region)','Han Solo View'])\n",
    "order = ['EAST NORTH CENTRAL','PACIFIC','SOUTH ATLANTIC','UNANSWERED','MIDDLE ATLANTIC','WEST SOUTH CENTRAL',\n",
    "          'WEST NORTH CENTRAL','MOUNTAIN','NEW ENGLAND','EAST SOUTH CENTRAL']\n",
    "\n",
    "reordered = group.size().reindex(order, level=0)  \n",
    "plt.tight_layout()\n",
    "ax = reordered.unstack().plot(kind='bar', figsize=(10,5)) \n",
    "ax.set_title('Figure 13: Bar Chart of Han Solo View According to Location')\n",
    "ax.legend(loc='center left', bbox_to_anchor=(1, 0.5))"
   ]
  },
  {
   "cell_type": "code",
   "execution_count": 115,
   "metadata": {},
   "outputs": [
    {
     "data": {
      "text/plain": [
       "<matplotlib.legend.Legend at 0x120d25c90>"
      ]
     },
     "execution_count": 115,
     "metadata": {},
     "output_type": "execute_result"
    },
    {
     "data": {
      "text/plain": [
       "<Figure size 432x288 with 0 Axes>"
      ]
     },
     "metadata": {},
     "output_type": "display_data"
    },
    {
     "data": {
      "image/png": "[encoded data removed]",
      "text/plain": [
       "<Figure size 720x360 with 1 Axes>"
      ]
     },
     "metadata": {
      "needs_background": "light"
     },
     "output_type": "display_data"
    }
   ],
   "source": [
    "# Creating a bar chart to visualise how the view towards Princess Leia Organa changes according to location\n",
    "group = sw_dem_view_data[['Location (Census Region)','Princess Leia Organa View']].groupby(['Location (Census Region)','Princess Leia Organa View'])\n",
    "order = ['EAST NORTH CENTRAL','PACIFIC','SOUTH ATLANTIC','UNANSWERED','MIDDLE ATLANTIC','WEST SOUTH CENTRAL',\n",
    "          'WEST NORTH CENTRAL','MOUNTAIN','NEW ENGLAND','EAST SOUTH CENTRAL']\n",
    "\n",
    "reordered = group.size().reindex(order, level=0)  \n",
    "plt.tight_layout()\n",
    "ax = reordered.unstack().plot(kind='bar', figsize=(10,5)) \n",
    "ax.set_title('Figure 14: Bar Chart of Princess Leia Organa View According to Location')\n",
    "ax.legend(loc='center left', bbox_to_anchor=(1, 0.5))"
   ]
  },
  {
   "cell_type": "code",
   "execution_count": 116,
   "metadata": {},
   "outputs": [
    {
     "data": {
      "text/plain": [
       "<matplotlib.legend.Legend at 0x120f87d90>"
      ]
     },
     "execution_count": 116,
     "metadata": {},
     "output_type": "execute_result"
    },
    {
     "data": {
      "text/plain": [
       "<Figure size 432x288 with 0 Axes>"
      ]
     },
     "metadata": {},
     "output_type": "display_data"
    },
    {
     "data": {
      "image/png": "[encoded data removed]",
      "text/plain": [
       "<Figure size 720x360 with 1 Axes>"
      ]
     },
     "metadata": {
      "needs_background": "light"
     },
     "output_type": "display_data"
    }
   ],
   "source": [
    "# Creating a bar chart to visualise how the view towards C-3P0 changes according to education\n",
    "group = sw_dem_view_data[['Education','C-3P0 View']].groupby(['Education','C-3P0 View'])\n",
    "order = ['SOME COLLEGE OR ASSOCIATE DEGREE','BACHELOR DEGREE','GRADUATE DEGREE','UNANSWERED', \n",
    "          'HIGH SCHOOL DEGREE','LESS THAN HIGH SCHOOL DEGREE']\n",
    "reordered = group.size().reindex(order, level=0)  \n",
    "plt.tight_layout()\n",
    "ax = reordered.unstack().plot(kind='bar', figsize=(10,5)) \n",
    "ax.set_title('Figure 15: Bar Chart of C-3P0 View According to Education')\n",
    "ax.legend(loc='center left', bbox_to_anchor=(1, 0.5))"
   ]
  },
  {
   "cell_type": "code",
   "execution_count": 117,
   "metadata": {},
   "outputs": [
    {
     "data": {
      "text/plain": [
       "<matplotlib.legend.Legend at 0x11f05ec10>"
      ]
     },
     "execution_count": 117,
     "metadata": {},
     "output_type": "execute_result"
    },
    {
     "data": {
      "text/plain": [
       "<Figure size 432x288 with 0 Axes>"
      ]
     },
     "metadata": {},
     "output_type": "display_data"
    },
    {
     "data": {
      "image/png": "[encoded data removed]",
      "text/plain": [
       "<Figure size 720x360 with 1 Axes>"
      ]
     },
     "metadata": {
      "needs_background": "light"
     },
     "output_type": "display_data"
    }
   ],
   "source": [
    "# Creating a bar chart to visualise how the view towards R2 D2 changes according to education\n",
    "group = sw_dem_view_data[['Education','R2 D2 View']].groupby(['Education','R2 D2 View'])\n",
    "order = ['SOME COLLEGE OR ASSOCIATE DEGREE','BACHELOR DEGREE','GRADUATE DEGREE','UNANSWERED', \n",
    "          'HIGH SCHOOL DEGREE','LESS THAN HIGH SCHOOL DEGREE']\n",
    "reordered = group.size().reindex(order, level=0)  \n",
    "plt.tight_layout()\n",
    "ax = reordered.unstack().plot(kind='bar', figsize=(10,5)) \n",
    "ax.set_title('Figure 16: Bar Chart of R2 D2 View According to Education')\n",
    "ax.legend(loc='center left', bbox_to_anchor=(1, 0.5))"
   ]
  },
  {
   "cell_type": "code",
   "execution_count": 118,
   "metadata": {},
   "outputs": [
    {
     "data": {
      "text/plain": [
       "<matplotlib.legend.Legend at 0x11f03b690>"
      ]
     },
     "execution_count": 118,
     "metadata": {},
     "output_type": "execute_result"
    },
    {
     "data": {
      "text/plain": [
       "<Figure size 432x288 with 0 Axes>"
      ]
     },
     "metadata": {},
     "output_type": "display_data"
    },
    {
     "data": {
      "image/png": "[encoded data removed]",
      "text/plain": [
       "<Figure size 720x360 with 1 Axes>"
      ]
     },
     "metadata": {
      "needs_background": "light"
     },
     "output_type": "display_data"
    }
   ],
   "source": [
    "# Creating a bar chart to visualise how the view towards Jar Jar Binks changes according to household income\n",
    "group = sw_dem_view_data[['Household Income','Jar Jar Binks View']].groupby(['Household Income','Jar Jar Binks View'])\n",
    "order = ['$0 - $24,999','$25,000 - $49,999','$50,000 - $99,999','$100,000 - $149,999', \n",
    "          '$150,000+']\n",
    "reordered = group.size().reindex(order, level=0)  \n",
    "plt.tight_layout()\n",
    "ax = reordered.unstack().plot(kind='bar', figsize=(10,5)) \n",
    "ax.set_title('Figure 17: Bar Chart of Jar Jar Binks View According to Household Income')\n",
    "ax.legend(loc='center left', bbox_to_anchor=(1, 0.5))"
   ]
  },
  {
   "cell_type": "code",
   "execution_count": 119,
   "metadata": {},
   "outputs": [
    {
     "data": {
      "text/plain": [
       "<matplotlib.legend.Legend at 0x10d97c810>"
      ]
     },
     "execution_count": 119,
     "metadata": {},
     "output_type": "execute_result"
    },
    {
     "data": {
      "text/plain": [
       "<Figure size 432x288 with 0 Axes>"
      ]
     },
     "metadata": {},
     "output_type": "display_data"
    },
    {
     "data": {
      "image/png": "[encoded data removed]",
      "text/plain": [
       "<Figure size 720x360 with 1 Axes>"
      ]
     },
     "metadata": {
      "needs_background": "light"
     },
     "output_type": "display_data"
    }
   ],
   "source": [
    "# Creating a bar chart to visualise how the view towards Yoda changes according to household income\n",
    "group = sw_dem_view_data[['Household Income','Yoda View']].groupby(['Household Income','Yoda View'])\n",
    "order = ['$0 - $24,999','$25,000 - $49,999','$50,000 - $99,999','$100,000 - $149,999', \n",
    "          '$150,000+']\n",
    "reordered = group.size().reindex(order, level=0)  \n",
    "plt.tight_layout()\n",
    "ax = reordered.unstack().plot(kind='bar', figsize=(10,5)) \n",
    "ax.set_title('Figure 18: Bar Chart of Yoda View According to Household Income')\n",
    "ax.legend(loc='center left', bbox_to_anchor=(1, 0.5))"
   ]
  },
  {
   "cell_type": "code",
   "execution_count": 120,
   "metadata": {},
   "outputs": [
    {
     "data": {
      "text/plain": [
       "<matplotlib.legend.Legend at 0x10d929b90>"
      ]
     },
     "execution_count": 120,
     "metadata": {},
     "output_type": "execute_result"
    },
    {
     "data": {
      "text/plain": [
       "<Figure size 432x288 with 0 Axes>"
      ]
     },
     "metadata": {},
     "output_type": "display_data"
    },
    {
     "data": {
      "image/png": "[encoded data removed]",
      "text/plain": [
       "<Figure size 720x360 with 1 Axes>"
      ]
     },
     "metadata": {
      "needs_background": "light"
     },
     "output_type": "display_data"
    }
   ],
   "source": [
    "# Creating a bar chart to visualise how the view towards Padme Amidala changes according to gender\n",
    "group = sw_dem_view_data[['Gender','Padme Amidala View']].groupby(['Gender','Padme Amidala View'])\n",
    "order = ['MALE', 'FEMALE', 'UNANSWERED']\n",
    "reordered = group.size().reindex(order, level=0)  \n",
    "plt.tight_layout()\n",
    "ax = reordered.unstack().plot(kind='bar', figsize=(10,5)) \n",
    "ax.set_title('Figure 19: Bar Chart of Padme Amidala View According to Gender')\n",
    "ax.legend(loc='center left', bbox_to_anchor=(1, 0.5))"
   ]
  },
  {
   "cell_type": "code",
   "execution_count": 121,
   "metadata": {},
   "outputs": [
    {
     "data": {
      "text/plain": [
       "<matplotlib.legend.Legend at 0x10d924f90>"
      ]
     },
     "execution_count": 121,
     "metadata": {},
     "output_type": "execute_result"
    },
    {
     "data": {
      "text/plain": [
       "<Figure size 432x288 with 0 Axes>"
      ]
     },
     "metadata": {},
     "output_type": "display_data"
    },
    {
     "data": {
      "image/png": "[encoded data removed]",
      "text/plain": [
       "<Figure size 720x360 with 1 Axes>"
      ]
     },
     "metadata": {
      "needs_background": "light"
     },
     "output_type": "display_data"
    }
   ],
   "source": [
    "# Creating a bar chart to visualise how the view towards Anakin Skywalker changes according to gender\n",
    "group = sw_dem_view_data[['Gender','Anakin Skywalker View']].groupby(['Gender','Anakin Skywalker View'])\n",
    "order = ['MALE', 'FEMALE', 'UNANSWERED']\n",
    "reordered = group.size().reindex(order, level=0)  \n",
    "plt.tight_layout()\n",
    "ax = reordered.unstack().plot(kind='bar', figsize=(10,5)) \n",
    "ax.set_title('Figure 20: Bar Chart of Anakin Skywalker View According to Gender')\n",
    "ax.legend(loc='center left', bbox_to_anchor=(1, 0.5))"
   ]
  }
 ],
 "metadata": {
  "kernelspec": {
   "display_name": "Python 3",
   "language": "python",
   "name": "python3"
  },
  "language_info": {
   "codemirror_mode": {
    "name": "ipython",
    "version": 3
   },
   "file_extension": ".py",
   "mimetype": "text/x-python",
   "name": "python",
   "nbconvert_exporter": "python",
   "pygments_lexer": "ipython3",
   "version": "3.7.4"
  }
 },
 "nbformat": 4,
 "nbformat_minor": 2
}
